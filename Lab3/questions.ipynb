{
 "cells": [
  {
   "cell_type": "markdown",
   "id": "b1b230a4-6fc3-4d4d-89b8-4dd0692b4213",
   "metadata": {},
   "source": [
    "# Using normalization, tokenization and stop words remover for entity resolution"
   ]
  },
  {
   "cell_type": "code",
   "execution_count": 1,
   "id": "34f355b3-090c-4a6b-8a3e-b0f363240cf7",
   "metadata": {},
   "outputs": [
    {
     "name": "stderr",
     "output_type": "stream",
     "text": [
      "24/10/05 08:07:22 WARN Utils: Your hostname, DESKTOP-2J74AJH resolves to a loopback address: 127.0.1.1; using 10.255.255.254 instead (on interface lo)\n",
      "24/10/05 08:07:23 WARN Utils: Set SPARK_LOCAL_IP if you need to bind to another address\n",
      "Setting default log level to \"WARN\".\n",
      "To adjust logging level use sc.setLogLevel(newLevel). For SparkR, use setLogLevel(newLevel).\n",
      "24/10/05 08:07:23 WARN NativeCodeLoader: Unable to load native-hadoop library for your platform... using builtin-java classes where applicable\n",
      "24/10/05 08:07:24 WARN Utils: Service 'SparkUI' could not bind on port 4040. Attempting port 4041.\n",
      "24/10/05 08:07:24 WARN Utils: Service 'SparkUI' could not bind on port 4041. Attempting port 4042.\n",
      "24/10/05 08:07:30 WARN SparkStringUtils: Truncated the string representation of a plan since it was too large. This behavior can be adjusted by setting 'spark.sql.debug.maxToStringFields'.\n",
      "                                                                                \r"
     ]
    },
    {
     "name": "stdout",
     "output_type": "stream",
     "text": [
      "+-----+---------------+----------+---------+--------------------+-----------------+--------------------+--------------------+--------------------+--------------------+-----------------+--------------------+-----------+-----------------+----------------+---------------+--------------------+-----------------+--------------------+-------------------+------------------+--------------------+-----------------------+--------------------+----------+---------------+\n",
      "|Index|    Customer Id|First Name|Last Name|             Company|             City|             Country|             Phone 1|             Phone 2|               Email|Subscription Date|             Website|Index clean|Customer Id clean|First Name clean|Last Name clean|       Company clean|       City clean|       Country clean|      Phone 1 clean|     Phone 2 clean|         Email clean|Subscription Date clean|       Website clean|    tokens|filtered_tokens|\n",
      "+-----+---------------+----------+---------+--------------------+-----------------+--------------------+--------------------+--------------------+--------------------+-----------------+--------------------+-----------+-----------------+----------------+---------------+--------------------+-----------------+--------------------+-------------------+------------------+--------------------+-----------------------+--------------------+----------+---------------+\n",
      "|    1|DD37Cf93aecA6Dc|    Sheryl|   Baxter|     Rasmussen Group|     East Leonard|               Chile|        229.077.5154|    397.884.0519x718|zunigavanessa@smi...|       2020-08-24|http://www.stephe...|          1|  dd37cf93aeca6dc|          sheryl|         baxter|     rasmussen group|     east leonard|               chile|         2290775154|    3978840519x718|zunigavanessasmit...|               20200824|httpwwwstephensoncom|  [sheryl]|       [sheryl]|\n",
      "|    2|1Ef7b82A4CAAD10|   Preston|   Lozano|         Vega-Gentry|East Jimmychester|            Djibouti|          5153435776|    686-620-1820x944|     vmata@colon.com|       2021-04-23|http://www.hobbs....|          2|  1ef7b82a4caad10|         preston|         lozano|          vegagentry|east jimmychester|            djibouti|         5153435776|    6866201820x944|       vmatacoloncom|               20210423|     httpwwwhobbscom| [preston]|      [preston]|\n",
      "|    3|6F94879bDAfE5a6|       Roy|    Berry|       Murillo-Perry|    Isabelborough| Antigua and Barbuda|     +1-539-402-0259| (496)978-3969x58947| beckycarr@hogan.com|       2020-03-25|http://www.lawren...|          3|  6f94879bdafe5a6|             roy|          berry|        murilloperry|    isabelborough| antigua and barbuda|        15394020259|  4969783969x58947|   beckycarrhogancom|               20200325|  httpwwwlawrencecom|     [roy]|          [roy]|\n",
      "|    4|5Cef8BFA16c5e3c|     Linda|    Olsen|Dominguez, Mcmill...|       Bensonview|  Dominican Republic|001-808-617-6467x...|     +1-813-324-8756|stanleyblackwell@...|       2020-06-02|http://www.good-l...|          4|  5cef8bfa16c5e3c|           linda|          olsen|dominguez mcmilla...|       bensonview|  dominican republic|0018086176467x12895|       18133248756|stanleyblackwellb...|               20200602| httpwwwgoodlyonscom|   [linda]|        [linda]|\n",
      "|    5|053d585Ab6b3159|    Joanna|   Bender|Martin, Lang and ...|   West Priscilla|Slovakia (Slovak ...|001-234-203-0635x...|001-199-446-3860x...|colinalvarado@mil...|       2021-04-17|https://goodwin-i...|          5|  053d585ab6b3159|          joanna|         bender|martin lang and a...|   west priscilla|slovakia slovak r...|0012342030635x76146|0011994463860x3486|colinalvaradomile...|               20210417|httpsgoodwiningra...|  [joanna]|       [joanna]|\n",
      "|    6|2d08FB17EE273F4|     Aimee|    Downs|        Steele Group|    Chavezborough|Bosnia and Herzeg...| (283)437-3886x88321|        999-728-1637| louis27@gilbert.com|       2020-02-25|http://www.berger...|          6|  2d08fb17ee273f4|           aimee|          downs|        steele group|    chavezborough|bosnia and herzeg...|   2834373886x88321|        9997281637|   louis27gilbertcom|               20200225|    httpwwwbergernet|   [aimee]|        [aimee]|\n",
      "|    7|EA4d384DfDbBf77|    Darren|     Peck|Lester, Woodard a...|         Lake Ana|    Pitcairn Islands|  (496)452-6181x3291|+1-247-266-0963x4995| tgates@cantrell.com|       2021-08-24| https://www.le.com/|          7|  ea4d384dfdbbf77|          darren|           peck|lester woodard an...|         lake ana|    pitcairn islands|    4964526181x3291|  12472660963x4995|   tgatescantrellcom|               20210824|       httpswwwlecom|  [darren]|       [darren]|\n",
      "|    8|0e04AFde9f225dE|     Brett|   Mullen|Sanford, Davenpor...|          Kimport|            Bulgaria|001-583-352-7197x297|    001-333-145-0369|     asnow@colon.com|       2021-04-12|https://hammond-r...|          8|  0e04afde9f225de|           brett|         mullen|sanford davenport...|          kimport|            bulgaria|  0015833527197x297|     0013331450369|       asnowcoloncom|               20210412|httpshammondramse...|   [brett]|        [brett]|\n",
      "|    9|C2dE4dEEc489ae0|    Sheryl|   Meyers|      Browning-Simon|     Robersonstad|              Cyprus|   854-138-4911x5772| +1-448-910-2276x729|mariokhan@ryan-po...|       2020-01-13|https://www.bullo...|          9|  c2de4deec489ae0|          sheryl|         meyers|       browningsimon|     robersonstad|              cyprus|    8541384911x5772|   14489102276x729|mariokhanryanpopeorg|               20200113|  httpswwwbullocknet|  [sheryl]|       [sheryl]|\n",
      "|   10|8C2811a503C7c5a|  Michelle|Gallagher|        Beck-Hendrix|       Elaineberg|         Timor-Leste|    739.218.2516x459|001-054-401-0347x617|   mdyer@escobar.net|       2021-11-08|  https://arias.com/|         10|  8c2811a503c7c5a|        michelle|      gallagher|         beckhendrix|       elaineberg|          timorleste|     7392182516x459| 0010544010347x617|     mdyerescobarnet|               20211108|       httpsariascom|[michelle]|     [michelle]|\n",
      "|   11|216E205d6eBb815|      Carl|Schroeder|Oconnell, Meza an...|     Shannonville|            Guernsey|    637-854-0256x825|    114.336.0784x788|  kirksalas@webb.com|       2021-10-20|https://simmons-h...|         11|  216e205d6ebb815|            carl|      schroeder|oconnell meza and...|     shannonville|            guernsey|     6378540256x825|    1143360784x788|    kirksalaswebbcom|               20211020|httpssimmonshurle...|    [carl]|         [carl]|\n",
      "|   12|CEDec94deE6d69B|     Jenna|   Dodson|Hoffman, Reed and...|      East Andrea|             Vietnam|       (041)737-3846|+1-556-888-3485x4...|  mark42@robbins.com|       2020-11-29|http://www.dougla...|         12|  cedec94dee6d69b|           jenna|         dodson|hoffman reed and ...|      east andrea|             vietnam|         0417373846| 15568883485x42608|    mark42robbinscom|               20201129|   httpwwwdouglasnet|   [jenna]|        [jenna]|\n",
      "|   13|e35426EbDEceaFF|    Tracey|     Mata|      Graham-Francis|South Joannamouth|                Togo|    001-949-844-8787|       (855)713-8773|    alex56@walls.org|       2021-12-02|http://www.beck.com/|         13|  e35426ebdeceaff|          tracey|           mata|       grahamfrancis|south joannamouth|                togo|      0019498448787|        8557138773|      alex56wallsorg|               20211202|      httpwwwbeckcom|  [tracey]|       [tracey]|\n",
      "|   14|A08A8aF8BE9FaD4|  Kristine|      Cox|      Carpenter-Cook|         Jodyberg|           Sri Lanka|  786-284-3358x62152|+1-315-627-1796x8074|holdenmiranda@cla...|       2021-02-08|https://www.brand...|         14|  a08a8af8be9fad4|        kristine|            cox|       carpentercook|         jodyberg|           sri lanka|   7862843358x62152|  13156271796x8074|holdenmirandaclar...|               20210208|   httpswwwbrandtcom|[kristine]|     [kristine]|\n",
      "|   15|6fEaA1b7cab7B6C|     Faith|     Lutz|      Carter-Hancock|        Burchbury|           Singapore|  (781)861-7180x8306|        207-185-3665|cassieparrish@ble...|       2022-01-26|http://stevenson....|         15|  6feaa1b7cab7b6c|           faith|           lutz|       carterhancock|        burchbury|           singapore|    7818617180x8306|        2071853665|cassieparrishblev...|               20220126|    httpstevensonorg|   [faith]|        [faith]|\n",
      "|   16|8cad0b4CBceaeec|   Miranda|  Beasley|  Singleton and Sons|     Desireeshire|                Oman|    540.085.3135x185|+1-600-462-6432x2...|vduncan@parks-har...|       2022-04-12|  http://acosta.org/|         16|  8cad0b4cbceaeec|         miranda|        beasley|  singleton and sons|     desireeshire|                oman|     5400853135x185| 16004626432x21881|vduncanparkshardycom|               20220412|       httpacostaorg| [miranda]|      [miranda]|\n",
      "|   17|a5DC21AE3a21eaA|  Caroline|    Foley|     Winters-Mendoza|West Adriennestad|      Western Sahara|   936.222.4746x9924|001-469-948-6341x359|holtgwendolyn@wat...|       2021-03-10|http://www.benson...|         17|  a5dc21ae3a21eaa|        caroline|          foley|      wintersmendoza|west adriennestad|      western sahara|    9362224746x9924| 0014699486341x359|holtgwendolynwats...|               20210310|httpwwwbensonrothcom|[caroline]|     [caroline]|\n",
      "|   18|F8Aa9d6DfcBeeF8|      Greg|     Mata|       Valentine LLC|      Lake Leslie|          Mozambique|       (701)087-2415| (195)156-1861x26241|jaredjuarez@carro...|       2022-03-26|http://pitts-cher...|         18|  f8aa9d6dfcbeef8|            greg|           mata|       valentine llc|      lake leslie|          mozambique|         7010872415|  1951561861x26241|jaredjuarezcarrol...|               20220326|  httppittscherrycom|    [greg]|         [greg]|\n",
      "|   19|F160f5Db3EfE973|  Clifford| Jacobson|           Simon LLC|       Harmonview|South Georgia and...|001-151-330-3524x...|       (748)477-7174|joseph26@jacobson...|       2020-09-24|https://mcconnell...|         19|  f160f5db3efe973|        clifford|       jacobson|           simon llc|       harmonview|south georgia and...| 0011513303524x0469|        7484777174| joseph26jacobsoncom|               20200924|   httpsmcconnellcom|[clifford]|     [clifford]|\n",
      "|   20|0F60FF3DdCd7aB0|    Joanna|     Kirk|      Mays-Mccormick|       Jamesshire|    French Polynesia|   (266)131-7001x711| (283)312-5579x11543|tuckerangie@salaz...|       2021-09-24|https://www.camac...|         20|  0f60ff3ddcd7ab0|          joanna|           kirk|       maysmccormick|       jamesshire|    french polynesia|     2661317001x711|  2833125579x11543|tuckerangiesalaza...|               20210924|  httpswwwcamachonet|  [joanna]|       [joanna]|\n",
      "+-----+---------------+----------+---------+--------------------+-----------------+--------------------+--------------------+--------------------+--------------------+-----------------+--------------------+-----------+-----------------+----------------+---------------+--------------------+-----------------+--------------------+-------------------+------------------+--------------------+-----------------------+--------------------+----------+---------------+\n",
      "only showing top 20 rows\n",
      "\n"
     ]
    }
   ],
   "source": [
    "from pyspark.sql import SparkSession\n",
    "from pyspark.sql.functions import col, udf, lower, regexp_replace\n",
    "from pyspark.sql.types import StringType, ArrayType\n",
    "from pyspark.ml.feature import Tokenizer, StopWordsRemover\n",
    "import re\n",
    "\n",
    "spark = SparkSession.builder.appName('entity resolution').getOrCreate()\n",
    "df = spark.read.csv('customers-100.csv', header = True)\n",
    "\n",
    "# creating udfs\n",
    "def normalize_text(text):\n",
    "    text = text.lower()\n",
    "    # note\n",
    "    text = re.sub(r'[^\\w\\s]', '', text)\n",
    "    return text\n",
    "normal_udf = udf(normalize_text, StringType())\n",
    "\n",
    "df = df.withColumn('Index clean', normal_udf(col('Index')))\n",
    "df = df.withColumn('Customer Id clean', normal_udf(col('Customer Id')))\n",
    "df = df.withColumn('First Name clean', normal_udf(col('First Name')))\n",
    "df = df.withColumn('Last Name clean', normal_udf(col('Last Name')))\n",
    "df = df.withColumn('Company clean', normal_udf(col('Company')))\n",
    "df = df.withColumn('City clean', normal_udf(col('City')))\n",
    "df = df.withColumn('Country clean', normal_udf(col('Country')))\n",
    "df = df.withColumn('Phone 1 clean', normal_udf(col('Phone 1')))\n",
    "df = df.withColumn('Phone 2 clean', normal_udf(col('Phone 2')))\n",
    "df = df.withColumn('Email clean', normal_udf(col('Email')))\n",
    "df = df.withColumn('Subscription Date clean', normal_udf(col('Subscription Date')))\n",
    "df = df.withColumn('Website clean', normal_udf(col('Website')))\n",
    "\n",
    "# Tokenization\n",
    "tokenizer = Tokenizer(inputCol= 'First Name clean', outputCol='tokens')\n",
    "df_tokenized = tokenizer.transform(df)\n",
    "\n",
    "# remove stop words\n",
    "stop_rem = StopWordsRemover(inputCol= 'tokens', outputCol='filtered_tokens')\n",
    "df_filtered = stop_rem.transform(df_tokenized)\n",
    "\n",
    "df_filtered.show()\n",
    "spark.stop()"
   ]
  },
  {
   "cell_type": "markdown",
   "id": "e3ed4511-3cb1-430d-a05c-0aed08bdfebb",
   "metadata": {},
   "source": [
    "# UDF usage for entity resolution"
   ]
  },
  {
   "cell_type": "code",
   "execution_count": 2,
   "id": "fe8d6a17-b89a-4a9a-974a-687925ec6755",
   "metadata": {},
   "outputs": [
    {
     "name": "stderr",
     "output_type": "stream",
     "text": [
      "24/10/05 08:07:32 WARN Utils: Service 'SparkUI' could not bind on port 4040. Attempting port 4041.\n",
      "24/10/05 08:07:32 WARN Utils: Service 'SparkUI' could not bind on port 4041. Attempting port 4042.\n",
      "                                                                                \r"
     ]
    },
    {
     "name": "stdout",
     "output_type": "stream",
     "text": [
      "+--------------------+--------------------+----------+\n",
      "|             Phone 1|             Phone 2|    metric|\n",
      "+--------------------+--------------------+----------+\n",
      "|        229.077.5154|    397.884.0519x718| 0.6363636|\n",
      "|          5153435776|    686-620-1820x944|      0.25|\n",
      "|     +1-539-402-0259| (496)978-3969x58947|0.33333334|\n",
      "|001-808-617-6467x...|     +1-813-324-8756|0.61538464|\n",
      "|001-234-203-0635x...|001-199-446-3860x...| 0.5833333|\n",
      "| (283)437-3886x88321|        999-728-1637| 0.5833333|\n",
      "|  (496)452-6181x3291|+1-247-266-0963x4995|       0.6|\n",
      "|001-583-352-7197x297|    001-333-145-0369|       0.5|\n",
      "|   854-138-4911x5772| +1-448-910-2276x729|0.61538464|\n",
      "|    739.218.2516x459|001-054-401-0347x617|0.53846157|\n",
      "|    637-854-0256x825|    114.336.0784x788| 0.5833333|\n",
      "|       (041)737-3846|+1-556-888-3485x4...|       0.5|\n",
      "|    001-949-844-8787|       (855)713-8773|0.36363637|\n",
      "|  786-284-3358x62152|+1-315-627-1796x8074| 0.7692308|\n",
      "|  (781)861-7180x8306|        207-185-3665| 0.5833333|\n",
      "|    540.085.3135x185|+1-600-462-6432x2...|       0.5|\n",
      "|   936.222.4746x9924|001-469-948-6341x359| 0.3846154|\n",
      "|       (701)087-2415| (195)156-1861x26241|0.61538464|\n",
      "|001-151-330-3524x...|       (748)477-7174|0.21428572|\n",
      "|   (266)131-7001x711| (283)312-5579x11543| 0.5714286|\n",
      "+--------------------+--------------------+----------+\n",
      "only showing top 20 rows\n",
      "\n"
     ]
    }
   ],
   "source": [
    "from pyspark.sql import SparkSession\n",
    "from pyspark.sql.functions import col, lower, regexp_replace, udf\n",
    "from pyspark.sql.types import FloatType, ArrayType, StringType\n",
    "from pyspark.ml.feature import Tokenizer, StopWordsRemover\n",
    "import re\n",
    "\n",
    "spark = SparkSession.builder.appName('entity resolution').getOrCreate()\n",
    "df = spark.read.csv('customers-100.csv', header = True)\n",
    "\n",
    "def metric(x, y):\n",
    "    x, y = set(x), set(y)\n",
    "    u = x.union(y)\n",
    "    i = x.intersection(y)\n",
    "    if len(i) == 0:\n",
    "        return 0.0\n",
    "    else:\n",
    "        return len(i) / len(u)\n",
    "metrix_udf = udf(metric, FloatType())\n",
    "\n",
    "def list_convert(t):\n",
    "    return list(t)\n",
    "convert = udf(list_convert, ArrayType(StringType()))\n",
    "\n",
    "df = df.withColumn(\"Phone 1 Set\", convert(col(\"Phone 1\")))\n",
    "df = df.withColumn(\"Phone 2 Set\", convert(col(\"Phone 2\")))\n",
    "df = df.withColumn(\"metric\", metrix_udf(col(\"Phone 1 Set\"), col(\"Phone 2 Set\")))\n",
    "\n",
    "df.select('Phone 1', 'Phone 2', 'metric').show()\n",
    "spark.stop()"
   ]
  },
  {
   "cell_type": "markdown",
   "id": "46c416c4-ce92-4051-ab43-8f571af8fd7b",
   "metadata": {},
   "source": [
    "# Confusion matrix creation"
   ]
  },
  {
   "cell_type": "code",
   "execution_count": 3,
   "id": "af49f3df-9dee-4724-b659-1a0a5aefce53",
   "metadata": {},
   "outputs": [
    {
     "name": "stderr",
     "output_type": "stream",
     "text": [
      "24/10/05 08:07:34 WARN Utils: Service 'SparkUI' could not bind on port 4040. Attempting port 4041.\n",
      "24/10/05 08:07:34 WARN Utils: Service 'SparkUI' could not bind on port 4041. Attempting port 4042.\n",
      "                                                                                \r"
     ]
    },
    {
     "name": "stdout",
     "output_type": "stream",
     "text": [
      "+---------+------+--------+\n",
      "|Precision|Recall|F1_Score|\n",
      "+---------+------+--------+\n",
      "|0.5      |0.5   |0.5     |\n",
      "+---------+------+--------+\n",
      "\n"
     ]
    }
   ],
   "source": [
    "from pyspark.sql import SparkSession\n",
    "from pyspark.sql.functions import col, count, when\n",
    "\n",
    "# Initialize Spark session\n",
    "spark = SparkSession.builder \\\n",
    "    .appName(\"EntityResolutionEvaluation\") \\\n",
    "    .getOrCreate()\n",
    "\n",
    "# Sample data: (id1, id2, true_label, predicted_label)\n",
    "data = [(1, 2, 1, 1),  # 1: True Positive\n",
    "        (1, 3, 1, 0),  # 2: False Negative\n",
    "        (2, 3, 0, 1),  # 3: False Positive\n",
    "        (2, 4, 0, 0)]  # 4: True Negative\n",
    "\n",
    "df = spark.createDataFrame(data, [\"id1\", \"id2\", \"true_label\", \"predicted_label\"])\n",
    "\n",
    "# Calculate confusion matrix components\n",
    "# spark needs proper brackets for boolean and & like C\n",
    "confusion_matrix = df.groupBy().agg(\n",
    "    count(when((col(\"true_label\") == 1) & (col(\"predicted_label\") == 1), 1)).alias(\"TP\"),  # True Positives\n",
    "    count(when((col(\"true_label\") == 1) & (col(\"predicted_label\") == 0), 1)).alias(\"FN\"),  # False Negatives\n",
    "    count(when((col(\"true_label\") == 0) & (col(\"predicted_label\") == 1), 1)).alias(\"FP\"),  # False Positives\n",
    "    count(when((col(\"true_label\") == 0) & (col(\"predicted_label\") == 0), 1)).alias(\"TN\")   # True Negatives\n",
    ")\n",
    "\n",
    "# Calculate Precision, Recall, F1-Score\n",
    "metrics = confusion_matrix.select(\n",
    "    (col(\"TP\") / (col(\"TP\") + col(\"FP\"))).alias(\"Precision\"),\n",
    "    (col(\"TP\") / (col(\"TP\") + col(\"FN\"))).alias(\"Recall\"),\n",
    "    (2 * col(\"TP\") / (2 * col(\"TP\") + col(\"FP\") + col(\"FN\"))).alias(\"F1_Score\")\n",
    ")\n",
    "\n",
    "# Show metrics\n",
    "metrics.show(truncate=False)\n",
    "\n",
    "# Stop the Spark session\n",
    "spark.stop()\n"
   ]
  },
  {
   "cell_type": "code",
   "execution_count": null,
   "id": "031a3ae8-b6e3-4545-946d-54385078edae",
   "metadata": {},
   "outputs": [],
   "source": []
  }
 ],
 "metadata": {
  "kernelspec": {
   "display_name": "Python 3 (ipykernel)",
   "language": "python",
   "name": "python3"
  },
  "language_info": {
   "codemirror_mode": {
    "name": "ipython",
    "version": 3
   },
   "file_extension": ".py",
   "mimetype": "text/x-python",
   "name": "python",
   "nbconvert_exporter": "python",
   "pygments_lexer": "ipython3",
   "version": "3.10.12"
  }
 },
 "nbformat": 4,
 "nbformat_minor": 5
}
