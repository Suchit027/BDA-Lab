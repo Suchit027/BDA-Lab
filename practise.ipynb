{
 "cells": [
  {
   "cell_type": "code",
   "execution_count": 8,
   "id": "2b6c775d-15df-4def-9468-265a0b39cd5a",
   "metadata": {},
   "outputs": [
    {
     "name": "stdout",
     "output_type": "stream",
     "text": [
      "['this is a test. this is a test', 'another text file.']\n"
     ]
    }
   ],
   "source": [
    "from pyspark import SparkContext, SparkConf\n",
    "\n",
    "sc = SparkContext.getOrCreate(SparkConf().setMaster('local[*]'))\n",
    "rdd = sc.textFile('./text file')\n",
    "print(rdd.collect())\n",
    "sc.stop()"
   ]
  },
  {
   "cell_type": "code",
   "execution_count": 13,
   "id": "5fdbe68c-91ae-4cda-81ed-a98191b94db2",
   "metadata": {},
   "outputs": [
    {
     "name": "stdout",
     "output_type": "stream",
     "text": [
      "[('file:/mnt/c/Users/Suchit/Desktop/5th Sem/Big Data/lab/text file/text.txt', 'this is a test. this is a test'), ('file:/mnt/c/Users/Suchit/Desktop/5th Sem/Big Data/lab/text file/text1.txt', 'another text file.')]\n"
     ]
    }
   ],
   "source": [
    "from pyspark import SparkContext, SparkConf\n",
    "\n",
    "sc = SparkContext.getOrCreate(SparkConf().setMaster('local[*]'))\n",
    "rdd = sc.wholeTextFiles('./text file')\n",
    "print(rdd.collect())\n",
    "sc.stop()"
   ]
  },
  {
   "cell_type": "code",
   "execution_count": 3,
   "id": "0d87c7c9-f117-4d0b-832c-f0f50cdc6ca3",
   "metadata": {},
   "outputs": [
    {
     "name": "stdout",
     "output_type": "stream",
     "text": [
      "PythonRDD[5] at RDD at PythonRDD.scala:53\n",
      "[1, 3, 5, 7, 9]\n"
     ]
    }
   ],
   "source": [
    "from pyspark import SparkContext, SparkConf\n",
    "\n",
    "sc = SparkContext.getOrCreate(SparkConf().setMaster('local[*]'))\n",
    "rdd = sc.range(1, 10, 2, 1)\n",
    "print(rdd)\n",
    "print(rdd.collect())\n",
    "sc.stop()"
   ]
  },
  {
   "cell_type": "code",
   "execution_count": null,
   "id": "8200900c-c88d-407d-adaf-81685967d508",
   "metadata": {},
   "outputs": [],
   "source": []
  }
 ],
 "metadata": {
  "kernelspec": {
   "display_name": "Python 3 (ipykernel)",
   "language": "python",
   "name": "python3"
  },
  "language_info": {
   "codemirror_mode": {
    "name": "ipython",
    "version": 3
   },
   "file_extension": ".py",
   "mimetype": "text/x-python",
   "name": "python",
   "nbconvert_exporter": "python",
   "pygments_lexer": "ipython3",
   "version": "3.10.12"
  }
 },
 "nbformat": 4,
 "nbformat_minor": 5
}
