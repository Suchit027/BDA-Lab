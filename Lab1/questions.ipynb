{
 "cells": [
  {
   "cell_type": "code",
   "execution_count": 8,
   "id": "7a45a77f-dcd9-4543-9e55-fc57cc4202a4",
   "metadata": {},
   "outputs": [
    {
     "name": "stderr",
     "output_type": "stream",
     "text": [
      "24/08/14 17:56:35 WARN SparkSession: Using an existing Spark session; only runtime SQL configurations will take effect.\n"
     ]
    },
    {
     "name": "stdout",
     "output_type": "stream",
     "text": [
      "+---+----+\n",
      "| no| ans|\n",
      "+---+----+\n",
      "|  1| 1.0|\n",
      "|  2| 4.0|\n",
      "|  3| 9.0|\n",
      "|  4|16.0|\n",
      "|  5|25.0|\n",
      "+---+----+\n",
      "\n"
     ]
    }
   ],
   "source": [
    "from pyspark.sql import SparkSession\n",
    "from pyspark.sql.functions import col\n",
    "spark = SparkSession.builder.appName('Squares').getOrCreate()\n",
    "data = [(1, ), (2, ), (3, ), (4, ), (5, )]\n",
    "df = spark.createDataFrame(data, schema = ['no'])\n",
    "ndf = df.withColumn('ans', col('no') ** 2)\n",
    "ndf.show()\n",
    "spark.stop()"
   ]
  },
  {
   "cell_type": "code",
   "execution_count": 9,
   "id": "2b414a94-2ad4-42fb-9219-58dbb4598b8f",
   "metadata": {},
   "outputs": [
    {
     "name": "stderr",
     "output_type": "stream",
     "text": [
      "                                                                                \r"
     ]
    },
    {
     "name": "stdout",
     "output_type": "stream",
     "text": [
      "+-------+\n",
      "|max(no)|\n",
      "+-------+\n",
      "|      5|\n",
      "+-------+\n",
      "\n"
     ]
    }
   ],
   "source": [
    "from pyspark.sql import SparkSession\n",
    "from pyspark.sql.functions import col, max\n",
    "spark = SparkSession.builder.appName('Max').getOrCreate()\n",
    "data = [(1, ), (2, ), (3, ), (4, ), (5, )]\n",
    "df = spark.createDataFrame(data, schema= ['no'])\n",
    "ndf = df.agg(max('no'))\n",
    "ndf.show()\n",
    "spark.stop()"
   ]
  },
  {
   "cell_type": "code",
   "execution_count": 10,
   "id": "dbb4ebc7-2a22-4058-aee2-436f03d112e5",
   "metadata": {},
   "outputs": [
    {
     "name": "stderr",
     "output_type": "stream",
     "text": [
      "                                                                                \r"
     ]
    },
    {
     "name": "stdout",
     "output_type": "stream",
     "text": [
      "+-------+\n",
      "|avg(no)|\n",
      "+-------+\n",
      "|    3.0|\n",
      "+-------+\n",
      "\n"
     ]
    }
   ],
   "source": [
    "from pyspark.sql import SparkSession\n",
    "from pyspark.sql.functions import avg\n",
    "spark = SparkSession.builder.appName('avg').getOrCreate()\n",
    "data = [(1, ), (2, ), (3, ), (4, ), (5, )]\n",
    "df = spark.createDataFrame(data, schema= ['no'])\n",
    "ndf = df.agg(avg('no'))\n",
    "ndf.show()\n",
    "spark.stop()"
   ]
  },
  {
   "cell_type": "code",
   "execution_count": 14,
   "id": "da6a3403-9734-4122-8275-877bf2e15eba",
   "metadata": {},
   "outputs": [
    {
     "name": "stderr",
     "output_type": "stream",
     "text": [
      "24/08/14 18:01:35 WARN SparkSession: Using an existing Spark session; only runtime SQL configurations will take effect.\n"
     ]
    },
    {
     "name": "stdout",
     "output_type": "stream",
     "text": [
      "+---+---+\n",
      "|  a|  b|\n",
      "+---+---+\n",
      "|  1|  2|\n",
      "|  3|  4|\n",
      "|  5|  6|\n",
      "+---+---+\n",
      "\n"
     ]
    }
   ],
   "source": [
    "from pyspark.sql import SparkSession\n",
    "spark = SparkSession.builder.appName('read').getOrCreate()\n",
    "df = spark.read.csv('data.csv', header = True)\n",
    "df.show()\n",
    "spark.stop()"
   ]
  },
  {
   "cell_type": "code",
   "execution_count": 15,
   "id": "ae941f11-6dfe-4cac-93ae-8aecda1ad709",
   "metadata": {},
   "outputs": [
    {
     "name": "stdout",
     "output_type": "stream",
     "text": [
      "+---+---+\n",
      "|a  |b  |\n",
      "+---+---+\n",
      "|1  |2  |\n",
      "|3  |4  |\n",
      "+---+---+\n",
      "only showing top 2 rows\n",
      "\n"
     ]
    }
   ],
   "source": [
    "from pyspark.sql import SparkSession\n",
    "spark = SparkSession.builder.appName('display').getOrCreate()\n",
    "df = spark.read.csv('data.csv', header = True)\n",
    "df.show(2, 0)"
   ]
  },
  {
   "cell_type": "code",
   "execution_count": 19,
   "id": "aa2f4be7-5808-455b-9d1e-640b2d097510",
   "metadata": {},
   "outputs": [
    {
     "name": "stdout",
     "output_type": "stream",
     "text": [
      "+-------+---+---+\n",
      "|summary|_c0|_c1|\n",
      "+-------+---+---+\n",
      "|  count|  4|  4|\n",
      "|   mean|3.0|4.0|\n",
      "| stddev|2.0|2.0|\n",
      "|    min|  1|  2|\n",
      "|    max|  a|  b|\n",
      "+-------+---+---+\n",
      "\n"
     ]
    }
   ],
   "source": [
    "from pyspark.sql import SparkSession\n",
    "spark = SparkSession.builder.appName('describe').getOrCreate()\n",
    "df = spark.read.csv('data.csv')\n",
    "df.describe().show()\n",
    "spark.stop()"
   ]
  },
  {
   "cell_type": "code",
   "execution_count": null,
   "id": "e0c68092-9091-4341-814e-1eaed4df594d",
   "metadata": {},
   "outputs": [],
   "source": []
  }
 ],
 "metadata": {
  "kernelspec": {
   "display_name": "Python 3 (ipykernel)",
   "language": "python",
   "name": "python3"
  },
  "language_info": {
   "codemirror_mode": {
    "name": "ipython",
    "version": 3
   },
   "file_extension": ".py",
   "mimetype": "text/x-python",
   "name": "python",
   "nbconvert_exporter": "python",
   "pygments_lexer": "ipython3",
   "version": "3.10.12"
  }
 },
 "nbformat": 4,
 "nbformat_minor": 5
}
