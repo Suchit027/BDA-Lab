{
 "cells": [
  {
   "cell_type": "markdown",
   "id": "813cc51f-4bfc-47d5-b81e-8985c0f7a238",
   "metadata": {},
   "source": [
    "# Square of integers in a dataframe"
   ]
  },
  {
   "cell_type": "code",
   "execution_count": 26,
   "id": "7a45a77f-dcd9-4543-9e55-fc57cc4202a4",
   "metadata": {},
   "outputs": [
    {
     "name": "stderr",
     "output_type": "stream",
     "text": [
      "24/10/02 18:07:27 WARN Utils: Service 'SparkUI' could not bind on port 4040. Attempting port 4041.\n"
     ]
    },
    {
     "name": "stdout",
     "output_type": "stream",
     "text": [
      "+---+----+\n",
      "| no| ans|\n",
      "+---+----+\n",
      "|  1| 1.0|\n",
      "|  2| 4.0|\n",
      "|  3| 9.0|\n",
      "|  4|16.0|\n",
      "|  5|25.0|\n",
      "+---+----+\n",
      "\n"
     ]
    }
   ],
   "source": [
    "from pyspark.sql import SparkSession\n",
    "from pyspark.sql.functions import col\n",
    "spark = SparkSession.builder.appName('Squares').getOrCreate()\n",
    "data = [(1, ), (2, ), (3, ), (4, ), (5, )]\n",
    "\n",
    "# note createDataFrame\n",
    "df = spark.createDataFrame(data, schema = ['no'])\n",
    "\n",
    "ndf = df.withColumn('ans', col('no') ** 2)\n",
    "\n",
    "ndf.show()\n",
    "spark.stop()"
   ]
  },
  {
   "cell_type": "markdown",
   "id": "0313ef8c-df87-47b6-a201-f534b4e42a05",
   "metadata": {},
   "source": [
    "# Maximum number in a dataframe"
   ]
  },
  {
   "cell_type": "code",
   "execution_count": 27,
   "id": "2b414a94-2ad4-42fb-9219-58dbb4598b8f",
   "metadata": {},
   "outputs": [
    {
     "name": "stderr",
     "output_type": "stream",
     "text": [
      "24/10/02 18:07:29 WARN Utils: Service 'SparkUI' could not bind on port 4040. Attempting port 4041.\n"
     ]
    },
    {
     "name": "stdout",
     "output_type": "stream",
     "text": [
      "+-------+\n",
      "|max(no)|\n",
      "+-------+\n",
      "|      5|\n",
      "+-------+\n",
      "\n"
     ]
    }
   ],
   "source": [
    "from pyspark.sql import SparkSession\n",
    "from pyspark.sql.functions import col, max\n",
    "spark = SparkSession.builder.appName('Max').getOrCreate()\n",
    "data = [(1, ), (2, ), (3, ), (4, ), (5, )]\n",
    "df = spark.createDataFrame(data, schema= ['no'])\n",
    "\n",
    "# remember its df.agg\n",
    "ndf = df.agg(max('no'))\n",
    "\n",
    "ndf.show()\n",
    "spark.stop()"
   ]
  },
  {
   "cell_type": "markdown",
   "id": "6ff3683f-aa17-4b7b-9bc5-308aefddc283",
   "metadata": {},
   "source": [
    "# Average of data in dataframe"
   ]
  },
  {
   "cell_type": "code",
   "execution_count": 28,
   "id": "dbb4ebc7-2a22-4058-aee2-436f03d112e5",
   "metadata": {},
   "outputs": [
    {
     "name": "stderr",
     "output_type": "stream",
     "text": [
      "24/10/02 18:07:31 WARN Utils: Service 'SparkUI' could not bind on port 4040. Attempting port 4041.\n",
      "                                                                                \r"
     ]
    },
    {
     "name": "stdout",
     "output_type": "stream",
     "text": [
      "+-------+\n",
      "|avg(no)|\n",
      "+-------+\n",
      "|    3.0|\n",
      "+-------+\n",
      "\n"
     ]
    }
   ],
   "source": [
    "from pyspark.sql import SparkSession\n",
    "from pyspark.sql.functions import avg\n",
    "spark = SparkSession.builder.appName('avg').getOrCreate()\n",
    "data = [(1, ), (2, ), (3, ), (4, ), (5, )]\n",
    "df = spark.createDataFrame(data, schema= ['no'])\n",
    "\n",
    "ndf = df.agg(avg('no'))\n",
    "\n",
    "ndf.show()\n",
    "spark.stop()"
   ]
  },
  {
   "cell_type": "markdown",
   "id": "cf02a66d-401d-47fb-8995-a1176d919694",
   "metadata": {},
   "source": [
    "# Reading data from a csv file into a dataframe"
   ]
  },
  {
   "cell_type": "code",
   "execution_count": 29,
   "id": "da6a3403-9734-4122-8275-877bf2e15eba",
   "metadata": {},
   "outputs": [
    {
     "name": "stderr",
     "output_type": "stream",
     "text": [
      "24/10/02 18:07:33 WARN Utils: Service 'SparkUI' could not bind on port 4040. Attempting port 4041.\n"
     ]
    },
    {
     "name": "stdout",
     "output_type": "stream",
     "text": [
      "+---+---+\n",
      "|  a|  b|\n",
      "+---+---+\n",
      "|  1|  2|\n",
      "|  3|  4|\n",
      "|  5|  6|\n",
      "+---+---+\n",
      "\n",
      "+---+---+\n",
      "|  a|  b|\n",
      "+---+---+\n",
      "|  1|  2|\n",
      "|  3|  4|\n",
      "+---+---+\n",
      "only showing top 2 rows\n",
      "\n"
     ]
    }
   ],
   "source": [
    "from pyspark.sql import SparkSession\n",
    "spark = SparkSession.builder.appName('read').getOrCreate()\n",
    "df = spark.read.csv('data.csv', header = True)\n",
    "df.show()\n",
    "df.show(2)\n",
    "spark.stop()"
   ]
  },
  {
   "cell_type": "markdown",
   "id": "d3a357e3-a892-4baf-8faf-0637bd8835d4",
   "metadata": {},
   "source": [
    "# Data stats summary"
   ]
  },
  {
   "cell_type": "code",
   "execution_count": 30,
   "id": "aa2f4be7-5808-455b-9d1e-640b2d097510",
   "metadata": {},
   "outputs": [
    {
     "name": "stderr",
     "output_type": "stream",
     "text": [
      "24/10/02 18:07:33 WARN Utils: Service 'SparkUI' could not bind on port 4040. Attempting port 4041.\n"
     ]
    },
    {
     "name": "stdout",
     "output_type": "stream",
     "text": [
      "+-------+---+---+\n",
      "|summary|_c0|_c1|\n",
      "+-------+---+---+\n",
      "|  count|  4|  4|\n",
      "|   mean|3.0|4.0|\n",
      "| stddev|2.0|2.0|\n",
      "|    min|  1|  2|\n",
      "|    max|  a|  b|\n",
      "+-------+---+---+\n",
      "\n",
      "+-------+---+---+\n",
      "|summary|_c0|_c1|\n",
      "+-------+---+---+\n",
      "|  count|  4|  4|\n",
      "|   mean|3.0|4.0|\n",
      "| stddev|2.0|2.0|\n",
      "|    min|  1|  2|\n",
      "|    25%|1.0|2.0|\n",
      "|    50%|3.0|4.0|\n",
      "|    75%|5.0|6.0|\n",
      "|    max|  a|  b|\n",
      "+-------+---+---+\n",
      "\n",
      "+-------+---+\n",
      "|summary|_c0|\n",
      "+-------+---+\n",
      "|  count|  4|\n",
      "|   mean|3.0|\n",
      "| stddev|2.0|\n",
      "|    min|  1|\n",
      "|    25%|1.0|\n",
      "|    50%|3.0|\n",
      "|    75%|5.0|\n",
      "|    max|  a|\n",
      "+-------+---+\n",
      "\n"
     ]
    }
   ],
   "source": [
    "from pyspark.sql import SparkSession\n",
    "spark = SparkSession.builder.appName('describe').getOrCreate()\n",
    "df = spark.read.csv('data.csv')\n",
    "df.describe().show()\n",
    "df.summary().show()\n",
    "df.select('_c0').summary().show()\n",
    "spark.stop()"
   ]
  },
  {
   "cell_type": "markdown",
   "id": "de216080-ec60-46f2-a116-f3a3d24f8078",
   "metadata": {},
   "source": [
    "# Word Count using DataFrames"
   ]
  },
  {
   "cell_type": "code",
   "execution_count": 31,
   "id": "e0c68092-9091-4341-814e-1eaed4df594d",
   "metadata": {},
   "outputs": [
    {
     "name": "stderr",
     "output_type": "stream",
     "text": [
      "24/10/02 18:07:34 WARN Utils: Service 'SparkUI' could not bind on port 4040. Attempting port 4041.\n"
     ]
    },
    {
     "name": "stdout",
     "output_type": "stream",
     "text": [
      "+--------------------+\n",
      "|               value|\n",
      "+--------------------+\n",
      "|This is a test te...|\n",
      "+--------------------+\n",
      "\n",
      "+-------+-----+\n",
      "|   word|count|\n",
      "+-------+-----+\n",
      "|     is|    2|\n",
      "|  viva.|    1|\n",
      "|   name|    1|\n",
      "|    for|    1|\n",
      "|    lab|    1|\n",
      "|   file|    1|\n",
      "|    the|    1|\n",
      "|Suchit.|    1|\n",
      "|    bda|    1|\n",
      "|     My|    1|\n",
      "|   This|    1|\n",
      "|   text|    1|\n",
      "|      a|    1|\n",
      "|   test|    1|\n",
      "+-------+-----+\n",
      "\n"
     ]
    }
   ],
   "source": [
    "from pyspark.sql import SparkSession\n",
    "from pyspark.sql import functions as f\n",
    "\n",
    "spark = SparkSession.builder.appName('word count using dataframes').getOrCreate()\n",
    "df = spark.read.text('text.txt')\n",
    "df.show()\n",
    "words = df.withColumn('word', f.explode(f.split(f.col('value'), ' '))).groupBy('word').count().sort('count', ascending = False).show()\n",
    "spark.stop()"
   ]
  },
  {
   "cell_type": "markdown",
   "id": "5d3ccf6b-dfe9-4db2-889d-d145ff84d4bb",
   "metadata": {},
   "source": [
    "# Group By operations demo"
   ]
  },
  {
   "cell_type": "code",
   "execution_count": 32,
   "id": "117f0258-900d-49d4-bab4-8af3c9a32ac0",
   "metadata": {},
   "outputs": [
    {
     "name": "stderr",
     "output_type": "stream",
     "text": [
      "24/10/02 18:07:35 WARN Utils: Service 'SparkUI' could not bind on port 4040. Attempting port 4041.\n"
     ]
    },
    {
     "name": "stdout",
     "output_type": "stream",
     "text": [
      "+-----+-----+\n",
      "|group|value|\n",
      "+-----+-----+\n",
      "|    a|    1|\n",
      "|    a|    1|\n",
      "|    a|    1|\n",
      "|    b|    1|\n",
      "|    b|    1|\n",
      "|    b|    1|\n",
      "+-----+-----+\n",
      "\n",
      "+-----+-----+\n",
      "|group|count|\n",
      "+-----+-----+\n",
      "|    a|    3|\n",
      "|    b|    3|\n",
      "+-----+-----+\n",
      "\n",
      "+-----+----------+\n",
      "|group|sum(value)|\n",
      "+-----+----------+\n",
      "|    a|         3|\n",
      "|    b|         3|\n",
      "+-----+----------+\n",
      "\n",
      "+-----+----------+\n",
      "|group|avg(value)|\n",
      "+-----+----------+\n",
      "|    a|       1.0|\n",
      "|    b|       1.0|\n",
      "+-----+----------+\n",
      "\n"
     ]
    }
   ],
   "source": [
    "from pyspark.sql import SparkSession\n",
    "\n",
    "sc = SparkSession.builder.appName('demo').getOrCreate()\n",
    "\n",
    "data = [('a', 1), ('a', 1), ('a', 1), ('b', 1), ('b', 1), ('b', 1)]\n",
    "\n",
    "df = sc.createDataFrame(data, schema = ['group', 'value'])\n",
    "df.show()\n",
    "\n",
    "new_df1 = df.groupBy('group').count()\n",
    "new_df2 = df.groupBy('group').sum()\n",
    "new_df3 = df.groupBy('group').avg()\n",
    "\n",
    "new_df1.show()\n",
    "new_df2.show()\n",
    "new_df3.show()\n",
    "sc.stop()"
   ]
  },
  {
   "cell_type": "code",
   "execution_count": null,
   "id": "7cf56480-adb3-4fed-8542-ceb0a2252465",
   "metadata": {},
   "outputs": [],
   "source": []
  }
 ],
 "metadata": {
  "kernelspec": {
   "display_name": "Python 3 (ipykernel)",
   "language": "python",
   "name": "python3"
  },
  "language_info": {
   "codemirror_mode": {
    "name": "ipython",
    "version": 3
   },
   "file_extension": ".py",
   "mimetype": "text/x-python",
   "name": "python",
   "nbconvert_exporter": "python",
   "pygments_lexer": "ipython3",
   "version": "3.10.12"
  }
 },
 "nbformat": 4,
 "nbformat_minor": 5
}
