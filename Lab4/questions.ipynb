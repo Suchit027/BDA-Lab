{
 "cells": [
  {
   "cell_type": "code",
   "execution_count": 1,
   "id": "7b874dd6-e6ce-429d-bb8b-5103dc19bc33",
   "metadata": {},
   "outputs": [
    {
     "name": "stderr",
     "output_type": "stream",
     "text": [
      "24/09/06 15:44:14 WARN Utils: Your hostname, DESKTOP-2J74AJH resolves to a loopback address: 127.0.1.1; using 10.255.255.254 instead (on interface lo)\n",
      "24/09/06 15:44:14 WARN Utils: Set SPARK_LOCAL_IP if you need to bind to another address\n",
      "Setting default log level to \"WARN\".\n",
      "To adjust logging level use sc.setLogLevel(newLevel). For SparkR, use setLogLevel(newLevel).\n",
      "24/09/06 15:44:15 WARN NativeCodeLoader: Unable to load native-hadoop library for your platform... using builtin-java classes where applicable\n",
      "24/09/06 15:44:16 WARN Utils: Service 'SparkUI' could not bind on port 4040. Attempting port 4041.\n",
      "24/09/06 15:44:16 WARN Utils: Service 'SparkUI' could not bind on port 4041. Attempting port 4042.\n",
      "24/09/06 15:44:16 WARN Utils: Service 'SparkUI' could not bind on port 4042. Attempting port 4043.\n",
      "24/09/06 15:44:16 WARN Utils: Service 'SparkUI' could not bind on port 4043. Attempting port 4044.\n",
      "24/09/06 15:44:16 WARN Utils: Service 'SparkUI' could not bind on port 4044. Attempting port 4045.\n",
      "24/09/06 15:44:16 WARN Utils: Service 'SparkUI' could not bind on port 4045. Attempting port 4046.\n"
     ]
    }
   ],
   "source": [
    "from pyspark import SparkContext, SparkConf\n",
    "import json\n",
    "\n",
    "sc = SparkContext.getOrCreate(SparkConf().setMaster('local[*]'))"
   ]
  },
  {
   "cell_type": "code",
   "execution_count": 2,
   "id": "d332c3ec-ee19-48ff-8fe2-79b39220fdf9",
   "metadata": {},
   "outputs": [],
   "source": [
    "fields = ['product_id', 'user_id', 'score', 'time']\n",
    "\n",
    "def validate(line):\n",
    "    for x in fields:\n",
    "        if x not in line:\n",
    "            return False\n",
    "    return True\n",
    "\n",
    "rdd = sc.textFile('movies.json')\n",
    "review = rdd.map(lambda x: json.loads(x)).filter(validate)"
   ]
  },
  {
   "cell_type": "code",
   "execution_count": 3,
   "id": "8afa66b9-5967-454f-af0b-92ce6e075996",
   "metadata": {},
   "outputs": [
    {
     "name": "stderr",
     "output_type": "stream",
     "text": [
      "                                                                                \r"
     ]
    },
    {
     "name": "stdout",
     "output_type": "stream",
     "text": [
      "1539\n"
     ]
    },
    {
     "name": "stderr",
     "output_type": "stream",
     "text": [
      "                                                                                \r"
     ]
    },
    {
     "name": "stdout",
     "output_type": "stream",
     "text": [
      "36409\n",
      "50000\n"
     ]
    }
   ],
   "source": [
    "# no. of movies\n",
    "r1 = review.groupBy(lambda x: x['product_id']).count()\n",
    "print(r1)\n",
    "# no. of users\n",
    "r2 = review.groupBy(lambda x: x['user_id']).count()\n",
    "print(r2)\n",
    "# no. of reviews\n",
    "print(review.count())"
   ]
  },
  {
   "cell_type": "code",
   "execution_count": 4,
   "id": "4164d20f-4452-4607-86bb-16ae8521c1a9",
   "metadata": {},
   "outputs": [
    {
     "data": {
      "text/plain": [
       "[('B002VL2PTU', 669),\n",
       " ('B001NFNFMQ', 648),\n",
       " ('B003DBEX6K', 626),\n",
       " ('B000KKQNRO', 608),\n",
       " ('B000ZLFALI', 591)]"
      ]
     },
     "execution_count": 4,
     "metadata": {},
     "output_type": "execute_result"
    }
   ],
   "source": [
    "# no. of people watching each product\n",
    "r1 = review.map(lambda x: (x['product_id'], 1)).reduceByKey(lambda x, y: x + y).sortBy(lambda x: x[1], ascending = False)\n",
    "r1.take(5)"
   ]
  },
  {
   "cell_type": "code",
   "execution_count": 5,
   "id": "7e05d450-c40b-4e28-9443-8ee15c975198",
   "metadata": {},
   "outputs": [
    {
     "data": {
      "text/plain": [
       "[('A3LZGLA88K0LA0', 56),\n",
       " ('ANCOMAI0I7LVG', 54),\n",
       " ('A2NJO6YE954DBH', 54),\n",
       " ('A328S9RN3U5M68', 53),\n",
       " ('A16CZRQL23NOIW', 51)]"
      ]
     },
     "execution_count": 5,
     "metadata": {},
     "output_type": "execute_result"
    }
   ],
   "source": [
    "# no. of movies watched by each user\n",
    "r2 = review.map(lambda x: (x['user_id'], 1)).reduceByKey(lambda x, y: x + y).sortBy(lambda x: x[1], ascending= False)\n",
    "r2.take(5)"
   ]
  },
  {
   "cell_type": "code",
   "execution_count": 6,
   "id": "d05ca80e-74e4-4034-a229-1272669ac9ef",
   "metadata": {},
   "outputs": [
    {
     "name": "stdout",
     "output_type": "stream",
     "text": [
      "George has written 102 no. of reviews\n"
     ]
    }
   ],
   "source": [
    "# has a particular person written a review\n",
    "george = review.filter(lambda x: 'George' in x['profile_name'])\n",
    "print(f'George has written {george.count()} no. of reviews')"
   ]
  },
  {
   "cell_type": "code",
   "execution_count": 7,
   "id": "52ec759e-a00e-4df3-840e-74182ce997d7",
   "metadata": {},
   "outputs": [
    {
     "name": "stderr",
     "output_type": "stream",
     "text": [
      "                                                                                \r"
     ]
    },
    {
     "data": {
      "text/plain": [
       "[{'user_id': 'A18LC2UPXD4DZ9',\n",
       "  'product_id': 'B000NDFLWG',\n",
       "  'review': 'Very enlighteniing on the development of the debt problems we all face especially how we have gotten there with many ideas as to how to decrease our debts and change our purchasing patterns.All families and individuals should view this, an eye opener.',\n",
       "  'summary': 'In Debt We Trust',\n",
       "  'profile_name': 'George Satterthwaite',\n",
       "  'helpfulness': '1/1',\n",
       "  'time': 1201392000,\n",
       "  'score': 4.0},\n",
       " {'user_id': 'A3NN4RTUN0LHBN',\n",
       "  'product_id': 'B0001G6PZC',\n",
       "  'review': \"Way better than Lord of the Rings. The battle sequences were suberb and stunning. I loved the fighting and plot. Tom Cruise was awesome in acting in this movie. It was also historicly accurate. So you can learn from this film. It was very educational. It deserves some academy awards. If you like movies like Gladiator you'd pamper yourself by coming to this movie\",\n",
       "  'summary': 'My Favortite movie by far',\n",
       "  'profile_name': 'George Rownd',\n",
       "  'helpfulness': '10/13',\n",
       "  'time': 1071360000,\n",
       "  'score': 5.0},\n",
       " {'user_id': 'A2CN3U4JCMSMA',\n",
       "  'product_id': 'B0001G6PZC',\n",
       "  'review': 'Wow, what a movie! First of all, the story line is so intersting. It is around 1876 and Japan is on course to introduce western lifestyle in the country. However, the Samurais, the traditional Japanese warriors they do not want to except this novice. Thus emperor of Japan confront them military. In order to train the Japanese military the US army captain (portrayed by Tom Cruise) is invited. During one of the confrontations he is taken as a prisoner by Samurais. He spends in Samurai village several month. He studies their lifestyle, their traditions and realizes that he was on the wrong side of the battlefield. Thus he decides to stand next to the Samurais and fight with them for their freedom.<br /><br />This is an epic movie. It probably can be compared to \"Braveheart\". Tom Cruise is brilliant, his acting is amazing. This is must have for movie lovers. I still do not believe that Oscar committee prefered \"The Lord of the Rings\" to \"The Last Samurai\". This is really dissapointing.',\n",
       "  'summary': 'Epic movie in the traditions of \"Braveheart\"',\n",
       "  'profile_name': 'George Khelashvili',\n",
       "  'helpfulness': '3/5',\n",
       "  'time': 1105228800,\n",
       "  'score': 5.0},\n",
       " {'user_id': 'AFGI1272MSVWE',\n",
       "  'product_id': 'B002OHDRF2',\n",
       "  'review': 'Taking the advice from some people here, I found the 2-disc with a few extras at Target. Apparently Target has the exclusive deal on this. The movie is the \"Director\\'s Cut\" with slight variations to the theatrical version. There is no commentary track here. The Special Features are found  on the second disc along with the digital copy. Personally, the digital copy doesn\\'t do a thing for me. First up is \"Reforging The Furture\" which runs 18:59 and shows how the filmmakers reinvented the franchise. Then there are 4 featurettes - \"Digital Destruction\", \"Enlisting The AirForce\", \"An Icon Returns\", \"Stan Winston Shop\". These four total 11:30. So is it worth it to spend the extra cash for just a hand full of extras? I guess, but I would have loved to have more extras including a commentary.',\n",
       "  'summary': 'Terminator: Target',\n",
       "  'profile_name': 'George Farris',\n",
       "  'helpfulness': '0/1',\n",
       "  'time': 1260144000,\n",
       "  'score': 4.0},\n",
       " {'user_id': 'A2TZXOQUF5LA43',\n",
       "  'product_id': '6300147967',\n",
       "  'review': 'When I first saw this movie it lifted me up. If only a real Pope could be so spiritual. Lent it to a Buddhist priest and a Catholic friend and they both praised the movie, and the feelings it brought out in them.<br /><br />The Giannini character says God doesn\\'t exist but he hopes that\\'s not true. The movie makes you believe that, if God does exist, it would be a wonderful thing. And maybe God does exist.<br /><br />But it\\'s not a religious movie, it\\'s a movie about people and a movie that\\'s wonderfully done . . \"Full of wonder\" . . hmm.',\n",
       "  'summary': 'Faith worth rescuing',\n",
       "  'profile_name': 'George Caffine',\n",
       "  'helpfulness': '7/10',\n",
       "  'time': 1107993600,\n",
       "  'score': 5.0}]"
      ]
     },
     "execution_count": 7,
     "metadata": {},
     "output_type": "execute_result"
    }
   ],
   "source": [
    "george.take(5)"
   ]
  },
  {
   "cell_type": "code",
   "execution_count": 8,
   "id": "eca16ffe-bfd7-42d2-91e8-0b94f4b33000",
   "metadata": {},
   "outputs": [
    {
     "data": {
      "text/plain": [
       "[('B002VL2PTU', 3169.0),\n",
       " ('B001NFNFMQ', 3100.0),\n",
       " ('B000063W82', 2843.0),\n",
       " ('B000ZLFALI', 2462.0),\n",
       " ('B000ZLFALS', 2462.0)]"
      ]
     },
     "execution_count": 8,
     "metadata": {},
     "output_type": "execute_result"
    }
   ],
   "source": [
    "# best rated movie\n",
    "r1 = review.map(lambda x: (x['product_id'], x['score'])).reduceByKey(lambda x, y: x + y).sortBy(lambda x: x[1], ascending= False)\n",
    "r1.take(5)"
   ]
  },
  {
   "cell_type": "code",
   "execution_count": 9,
   "id": "256ece8b-a715-4191-b34f-0093a28a39d0",
   "metadata": {},
   "outputs": [
    {
     "data": {
      "text/plain": [
       "[('B007NF02Q2', 1.0),\n",
       " ('B004XSUBE0', 1.0),\n",
       " ('B0099VUXCQ', 1.0),\n",
       " ('6303149073', 1.0),\n",
       " ('B000SKO8DC', 1.0)]"
      ]
     },
     "execution_count": 9,
     "metadata": {},
     "output_type": "execute_result"
    }
   ],
   "source": [
    "# worst rated movie\n",
    "r2 = review.map(lambda x: (x['product_id'], x['score'])).reduceByKey(lambda x, y: x + y).sortBy(lambda x: x[1], ascending= True)\n",
    "r2.take(5)"
   ]
  },
  {
   "cell_type": "code",
   "execution_count": 10,
   "id": "fdcf6235-4916-49d7-a66e-6f1960926f09",
   "metadata": {},
   "outputs": [
    {
     "name": "stdout",
     "output_type": "stream",
     "text": [
      "39992\n",
      "10008\n"
     ]
    }
   ],
   "source": [
    "from pyspark.mllib.recommendation import ALS\n",
    "import hashlib\n",
    "\n",
    "def get_hash(x):\n",
    "    return int(hashlib.sha1(x).hexdigest(), 16) % (10 ** 8)\n",
    "\n",
    "rating = review.map(lambda x: (get_hash(x['user_id'].encode('utf-8')), get_hash(x['product_id'].encode('utf-8')), int(x['score'])))\n",
    "train = rating.filter(lambda x: ((x[0] + x[1]) % 10) >= 2)\n",
    "test = rating.filter(lambda x: ((x[0] + x[1]) % 10) < 2)\n",
    "# no. of training samples\n",
    "print(train.count())\n",
    "# no. of testing samples\n",
    "print(test.count())"
   ]
  },
  {
   "cell_type": "code",
   "execution_count": 11,
   "id": "5d2ca352-a77c-4acf-8409-5e9bf7f01f1f",
   "metadata": {},
   "outputs": [
    {
     "name": "stderr",
     "output_type": "stream",
     "text": [
      "24/09/06 15:44:31 WARN InstanceBuilder: Failed to load implementation from:dev.ludovic.netlib.blas.JNIBLAS\n",
      "24/09/06 15:44:31 WARN InstanceBuilder: Failed to load implementation from:dev.ludovic.netlib.lapack.JNILAPACK\n",
      "[Stage 354:===================================================>   (17 + 1) / 18]\r"
     ]
    },
    {
     "name": "stdout",
     "output_type": "stream",
     "text": [
      "9.562934148374548\n"
     ]
    },
    {
     "name": "stderr",
     "output_type": "stream",
     "text": [
      "                                                                                \r"
     ]
    }
   ],
   "source": [
    "# building model\n",
    "rank = 20\n",
    "numiterations = 20\n",
    "model = ALS.train(train, rank, numiterations)\n",
    "format_test = test.map(lambda x: (int(x[0]), int(x[1])))\n",
    "predict = model.predictAll(format_test).map(lambda x: ((int(x[0]), int(x[1])), int(x[2])))\n",
    "true_and_predict = test.map(lambda x: ((int(x[0]), int(x[1])), int(x[2]))).join(predict)\n",
    "mse = true_and_predict.map(lambda x: (((int(x[1][0]) - int(x[1][1])) ** 2), 1)).reduce(lambda x, y: (x[0] + y[0], x[1] + y[1]))\n",
    "print(mse[0] / mse[1])"
   ]
  },
  {
   "cell_type": "code",
   "execution_count": 12,
   "id": "7164e3ef-6640-4369-bd45-472709a0f254",
   "metadata": {},
   "outputs": [
    {
     "name": "stderr",
     "output_type": "stream",
     "text": [
      "                                                                                \r"
     ]
    }
   ],
   "source": [
    "good_reviews = review.filter(lambda x: x['score'] == 5.0)\n",
    "bad_reviews = review.filter(lambda x: x['score'] == 1.0)\n",
    "\n",
    "good_words = good_reviews.flatMap(lambda x: x['review'].split())\n",
    "good_words = good_words.map(lambda x: (x.strip(), 1)).reduceByKey(lambda x, y: x + y).filter(lambda x: x[1] > 20)\n",
    "no_good = good_words.count()\n",
    "\n",
    "bad_words = bad_reviews.flatMap(lambda x: x['review'].split())\n",
    "bad_words = bad_words.map(lambda x: (x.strip(), 1)).reduceByKey(lambda x, y: x + y).filter(lambda x: x[1] > 20)\n",
    "no_bad = bad_words.count()"
   ]
  },
  {
   "cell_type": "code",
   "execution_count": 13,
   "id": "b875d298-9c65-4204-bfb7-fae9290b52a9",
   "metadata": {},
   "outputs": [
    {
     "data": {
      "text/plain": [
       "[('waste', 18.822084206132658),\n",
       " ('worst', 13.979516591560836),\n",
       " ('poorly', 11.263640087892442),\n",
       " ('wasted', 9.67554281032364),\n",
       " ('garbage', 8.553397685374847)]"
      ]
     },
     "execution_count": 13,
     "metadata": {},
     "output_type": "execute_result"
    }
   ],
   "source": [
    "from math import fabs\n",
    "# frequencies of words\n",
    "frequency_good = good_words.map(lambda x: (x[0], float(x[1]) / no_good))\n",
    "frequency_bad = bad_words.map(lambda x: (x[0], float(x[1]) / no_bad))\n",
    "\n",
    "# joined frequencies\n",
    "joined = frequency_good.join(frequency_bad)\n",
    "\n",
    "# relative difference between good and bad score\n",
    "result = joined.map(lambda x: (x[0], fabs(x[1][0] - x[1][1]) / x[1][0])).sortBy(lambda x: x[1], ascending = False)\n",
    "result.take(5)"
   ]
  },
  {
   "cell_type": "code",
   "execution_count": 15,
   "id": "a42df88e-723c-45a0-bed1-cfe6ff530f85",
   "metadata": {},
   "outputs": [
    {
     "data": {
      "image/png": "[encoded data removed]",
      "text/plain": [
       "<Figure size 640x480 with 1 Axes>"
      ]
     },
     "metadata": {},
     "output_type": "display_data"
    }
   ],
   "source": [
    "from matplotlib import pyplot as plt\n",
    "\n",
    "fig = plt.figure()\n",
    "ax = fig.add_axes([0, 0, 1, 1])\n",
    "plt.title('histogram')\n",
    "plt.xlabel('word')\n",
    "plt.ylabel('no. of occurances')\n",
    "for x in result.take(7):\n",
    "    plt.bar(x[0], x[1])\n",
    "    "
   ]
  },
  {
   "cell_type": "code",
   "execution_count": null,
   "id": "cec6d33c-abc2-44dd-9db6-02c65ee4129b",
   "metadata": {},
   "outputs": [],
   "source": []
  }
 ],
 "metadata": {
  "kernelspec": {
   "display_name": "Python 3 (ipykernel)",
   "language": "python",
   "name": "python3"
  },
  "language_info": {
   "codemirror_mode": {
    "name": "ipython",
    "version": 3
   },
   "file_extension": ".py",
   "mimetype": "text/x-python",
   "name": "python",
   "nbconvert_exporter": "python",
   "pygments_lexer": "ipython3",
   "version": "3.10.12"
  }
 },
 "nbformat": 4,
 "nbformat_minor": 5
}
