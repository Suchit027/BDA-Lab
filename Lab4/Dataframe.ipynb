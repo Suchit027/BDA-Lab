{
 "cells": [
  {
   "cell_type": "code",
   "execution_count": 1,
   "id": "56cacddf-83ea-423c-8b38-32922b7103d5",
   "metadata": {},
   "outputs": [
    {
     "name": "stderr",
     "output_type": "stream",
     "text": [
      "24/10/27 16:22:37 WARN Utils: Your hostname, DESKTOP-2J74AJH resolves to a loopback address: 127.0.1.1; using 10.255.255.254 instead (on interface lo)\n",
      "24/10/27 16:22:37 WARN Utils: Set SPARK_LOCAL_IP if you need to bind to another address\n",
      "Setting default log level to \"WARN\".\n",
      "To adjust logging level use sc.setLogLevel(newLevel). For SparkR, use setLogLevel(newLevel).\n",
      "24/10/27 16:22:37 WARN NativeCodeLoader: Unable to load native-hadoop library for your platform... using builtin-java classes where applicable\n",
      "24/10/27 16:22:38 WARN Utils: Service 'SparkUI' could not bind on port 4040. Attempting port 4041.\n",
      "24/10/27 16:22:38 WARN Utils: Service 'SparkUI' could not bind on port 4041. Attempting port 4042.\n",
      "                                                                                \r"
     ]
    },
    {
     "name": "stdout",
     "output_type": "stream",
     "text": [
      "root\n",
      " |-- helpfulness: string (nullable = true)\n",
      " |-- product_id: string (nullable = true)\n",
      " |-- profile_name: string (nullable = true)\n",
      " |-- review: string (nullable = true)\n",
      " |-- score: double (nullable = true)\n",
      " |-- summary: string (nullable = true)\n",
      " |-- time: long (nullable = true)\n",
      " |-- user_id: string (nullable = true)\n",
      "\n"
     ]
    }
   ],
   "source": [
    "from pyspark.sql import SparkSession\n",
    "\n",
    "sp = SparkSession.builder.appName('questions').getOrCreate()\n",
    "ratings = sp.read.json('movies.json')\n",
    "ratings.printSchema()"
   ]
  },
  {
   "cell_type": "code",
   "execution_count": 2,
   "id": "d1774777-5465-4cc3-b610-404eaf006c70",
   "metadata": {},
   "outputs": [
    {
     "name": "stderr",
     "output_type": "stream",
     "text": [
      "                                                                                \r"
     ]
    },
    {
     "name": "stdout",
     "output_type": "stream",
     "text": [
      "50000\n"
     ]
    },
    {
     "name": "stderr",
     "output_type": "stream",
     "text": [
      "[Stage 4:>                                                          (0 + 1) / 1]\r"
     ]
    },
    {
     "name": "stdout",
     "output_type": "stream",
     "text": [
      "+-------+----------+-----+\n",
      "|user_id|product_id|score|\n",
      "+-------+----------+-----+\n",
      "|5460385|  51259877|    3|\n",
      "+-------+----------+-----+\n",
      "only showing top 1 row\n",
      "\n"
     ]
    },
    {
     "name": "stderr",
     "output_type": "stream",
     "text": [
      "                                                                                \r"
     ]
    }
   ],
   "source": [
    "import pyspark.sql.functions as F\n",
    "from pyspark.sql.functions import col, regexp_extract,sha1\n",
    "from pyspark.sql.types import IntegerType, LongType\n",
    "from numpy import array\n",
    "import hashlib\n",
    "import math\n",
    "hex_to_bigint_udf = F.udf(lambda x: int(x, 16) % (10 ** 8), LongType())\n",
    "ratings = ratings.withColumn('user_id', hex_to_bigint_udf(sha1(col('user_id').cast('string')))).withColumn('product_id', hex_to_bigint_udf(sha1(col('product_id').cast('string')))).select('user_id', 'product_id', col('score').cast('int'))\n",
    "# ratings = ratings.withColumn(\"user_id\", regexp_extract(col(\"user_id\"), r\"\\d+\", 0).cast(IntegerType()))\n",
    "# ratings = ratings.withColumn(\"product_id\", regexp_extract(col(\"product_id\"), r\"\\d+\", 0).cast(IntegerType()))\n",
    "print(ratings.count())\n",
    "# ratings=ratings.dropna()\n",
    "#print(ratings.count())\n",
    "ratings.show(1)\n",
    "#ratings.show(1)\n"
   ]
  },
  {
   "cell_type": "code",
   "execution_count": 3,
   "id": "b14dcb50-005d-4fb6-9744-de4e2e533dd2",
   "metadata": {},
   "outputs": [
    {
     "name": "stderr",
     "output_type": "stream",
     "text": [
      "24/10/27 16:22:56 WARN InstanceBuilder: Failed to load implementation from:dev.ludovic.netlib.blas.JNIBLAS\n",
      "24/10/27 16:22:56 WARN InstanceBuilder: Failed to load implementation from:dev.ludovic.netlib.lapack.JNILAPACK\n"
     ]
    }
   ],
   "source": [
    "from pyspark.ml.recommendation import ALS\n",
    "from pyspark.ml.evaluation import RegressionEvaluator\n",
    "\n",
    "als = ALS( userCol = 'user_id', itemCol = 'product_id', ratingCol = 'score')\n",
    "\n",
    "(train, valid) = ratings.randomSplit([8.0, 2.0])\n",
    "evaluator = RegressionEvaluator(metricName = 'rmse', labelCol = 'score', predictionCol = 'prediction')\n",
    "model = als.fit(train)\n",
    "pred = model.transform(valid)"
   ]
  },
  {
   "cell_type": "code",
   "execution_count": 4,
   "id": "0abf04d4-04bb-48f9-856a-ef9b3e07d379",
   "metadata": {},
   "outputs": [
    {
     "name": "stderr",
     "output_type": "stream",
     "text": [
      "                                                                                \r"
     ]
    },
    {
     "name": "stdout",
     "output_type": "stream",
     "text": [
      "+-------+----------+-----+----------+\n",
      "|user_id|product_id|score|prediction|\n",
      "+-------+----------+-----+----------+\n",
      "|1526715|  87115994|    5|       NaN|\n",
      "| 423677|  89761594|    3| 1.2492025|\n",
      "|1373002|  84390254|    5|       NaN|\n",
      "+-------+----------+-----+----------+\n",
      "only showing top 3 rows\n",
      "\n"
     ]
    }
   ],
   "source": [
    "pred.show(3)"
   ]
  },
  {
   "cell_type": "code",
   "execution_count": 5,
   "id": "fdb91254-8e7f-45ad-81f2-4d2fe74a5ad5",
   "metadata": {},
   "outputs": [
    {
     "name": "stderr",
     "output_type": "stream",
     "text": [
      "[Stage 114:========================>                               (6 + 8) / 14]\r"
     ]
    },
    {
     "name": "stdout",
     "output_type": "stream",
     "text": [
      "1.966633948707933\n"
     ]
    },
    {
     "name": "stderr",
     "output_type": "stream",
     "text": [
      "                                                                                \r"
     ]
    }
   ],
   "source": [
    "print(evaluator.evaluate(pred.na.drop()))"
   ]
  },
  {
   "cell_type": "code",
   "execution_count": 6,
   "id": "de4f5ce3-2972-4dd6-afd0-749961e7a2c1",
   "metadata": {},
   "outputs": [],
   "source": [
    "from pyspark.ml.tuning import CrossValidator, ParamGridBuilder\n",
    "\n",
    "param = ParamGridBuilder().addGrid(als.rank, [1, 5]).addGrid(als.maxIter, [10]).addGrid(als.regParam, [0.05]).addGrid(als.alpha, [1]).build()"
   ]
  },
  {
   "cell_type": "code",
   "execution_count": 7,
   "id": "a68df1d6-e235-454c-84b2-e52af4f2b649",
   "metadata": {},
   "outputs": [
    {
     "data": {
      "text/plain": [
       "list"
      ]
     },
     "execution_count": 7,
     "metadata": {},
     "output_type": "execute_result"
    }
   ],
   "source": [
    "type(param)"
   ]
  },
  {
   "cell_type": "code",
   "execution_count": 8,
   "id": "2d0b7efb-80e3-4103-9c62-4c488885b9f2",
   "metadata": {},
   "outputs": [
    {
     "name": "stdout",
     "output_type": "stream",
     "text": [
      "[{Param(parent='ALS_0dfcea36732f', name='rank', doc='rank of the factorization'): 1, Param(parent='ALS_0dfcea36732f', name='maxIter', doc='max number of iterations (>= 0).'): 10, Param(parent='ALS_0dfcea36732f', name='regParam', doc='regularization parameter (>= 0).'): 0.05, Param(parent='ALS_0dfcea36732f', name='alpha', doc='alpha for implicit preference'): 1.0}, {Param(parent='ALS_0dfcea36732f', name='rank', doc='rank of the factorization'): 5, Param(parent='ALS_0dfcea36732f', name='maxIter', doc='max number of iterations (>= 0).'): 10, Param(parent='ALS_0dfcea36732f', name='regParam', doc='regularization parameter (>= 0).'): 0.05, Param(parent='ALS_0dfcea36732f', name='alpha', doc='alpha for implicit preference'): 1.0}]\n"
     ]
    }
   ],
   "source": [
    "print(param)"
   ]
  },
  {
   "cell_type": "code",
   "execution_count": 9,
   "id": "4624ae68-9044-4aa4-acc8-58b62c0f9da9",
   "metadata": {},
   "outputs": [
    {
     "name": "stderr",
     "output_type": "stream",
     "text": [
      "                                                                                \r"
     ]
    }
   ],
   "source": [
    "cross = CrossValidator( estimator = als, estimatorParamMaps = param, evaluator = evaluator, numFolds = 2)\n",
    "cmodel = cross.fit(train)\n",
    "cpred = cmodel.transform(valid)"
   ]
  },
  {
   "cell_type": "code",
   "execution_count": 10,
   "id": "300a101a-ba64-49ed-905f-42a556297f73",
   "metadata": {},
   "outputs": [
    {
     "name": "stderr",
     "output_type": "stream",
     "text": [
      "                                                                                \r"
     ]
    },
    {
     "name": "stdout",
     "output_type": "stream",
     "text": [
      "4.693397532738114\n"
     ]
    }
   ],
   "source": [
    "rmse = evaluator.evaluate(cpred.na.drop())\n",
    "print(rmse)"
   ]
  },
  {
   "cell_type": "code",
   "execution_count": 12,
   "id": "8fc9540d-f3f1-4105-bc30-70504a7e4769",
   "metadata": {},
   "outputs": [
    {
     "name": "stdout",
     "output_type": "stream",
     "text": [
      "ALSModel: uid=ALS_0dfcea36732f, rank=1\n"
     ]
    }
   ],
   "source": [
    "model = cmodel.bestModel\n",
    "print(model)"
   ]
  },
  {
   "cell_type": "code",
   "execution_count": null,
   "id": "1b730ddf-bb89-443b-90b4-591b508972a6",
   "metadata": {},
   "outputs": [],
   "source": []
  }
 ],
 "metadata": {
  "kernelspec": {
   "display_name": "Python 3 (ipykernel)",
   "language": "python",
   "name": "python3"
  },
  "language_info": {
   "codemirror_mode": {
    "name": "ipython",
    "version": 3
   },
   "file_extension": ".py",
   "mimetype": "text/x-python",
   "name": "python",
   "nbconvert_exporter": "python",
   "pygments_lexer": "ipython3",
   "version": "3.10.12"
  }
 },
 "nbformat": 4,
 "nbformat_minor": 5
}
