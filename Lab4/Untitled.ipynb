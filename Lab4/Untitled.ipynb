{
 "cells": [
  {
   "cell_type": "code",
   "execution_count": 19,
   "id": "aad3aa93-872b-4410-9819-2e36ca794087",
   "metadata": {},
   "outputs": [
    {
     "name": "stderr",
     "output_type": "stream",
     "text": [
      "[Stage 1374:===>                                                  (1 + 13) / 14]\r"
     ]
    },
    {
     "name": "stdout",
     "output_type": "stream",
     "text": [
      "root\n",
      " |-- helpfulness: string (nullable = true)\n",
      " |-- product_id: string (nullable = true)\n",
      " |-- profile_name: string (nullable = true)\n",
      " |-- review: string (nullable = true)\n",
      " |-- score: double (nullable = true)\n",
      " |-- summary: string (nullable = true)\n",
      " |-- time: long (nullable = true)\n",
      " |-- user_id: string (nullable = true)\n",
      "\n"
     ]
    },
    {
     "name": "stderr",
     "output_type": "stream",
     "text": [
      "                                                                                \r"
     ]
    }
   ],
   "source": [
    "from pyspark.sql import SparkSession\n",
    "\n",
    "sp = SparkSession.builder.appName('a').getOrCreate()\n",
    "\n",
    "data = sp.read.json('movies.json')\n",
    "data.printSchema()"
   ]
  },
  {
   "cell_type": "code",
   "execution_count": 21,
   "id": "3fd45dbc-23d5-4834-a927-a39c9fe3dcd6",
   "metadata": {},
   "outputs": [
    {
     "data": {
      "text/plain": [
       "DataFrame[product_id: bigint, user_id: bigint, score: int]"
      ]
     },
     "execution_count": 21,
     "metadata": {},
     "output_type": "execute_result"
    }
   ],
   "source": [
    "import pyspark.sql.functions as F\n",
    "from pyspark.sql.types import LongType\n",
    "\n",
    "getHash = F.udf(lambda x: int(x, 16) % (10 ** 8), LongType())\n",
    "\n",
    "data = data.select('product_id', 'user_id', 'score')\n",
    "ndata = data.withColumn('product_id', getHash(F.sha1(F.col('product_id').cast('string')))).withColumn('user_id', getHash(F.sha1(F.col('user_id').cast('string')))).withColumn('score', F.col('score').cast('int'))\n",
    "train, test = ndata.randomSplit([0.9, 0.1])\n",
    "train.cache()\n",
    "test.cache()"
   ]
  },
  {
   "cell_type": "code",
   "execution_count": null,
   "id": "073a1649-b121-453f-8bbb-d4a605d116fe",
   "metadata": {},
   "outputs": [],
   "source": [
    "from pyspark.ml.recommendation import ALS\n",
    "from pyspark.ml.evaluation import RegressionEvaluator\n",
    "from pyspark.ml.tuning import ParamGridBuilder, CrossValidator\n",
    "\n",
    "als = ALS(userCol = 'user_id', itemCol = 'product_id', ratingCol = 'score')\n",
    "model = als.fit(train)\n",
    "pred = model.transform(test)\n",
    "evaluator = RegressionEvaluator(metricName = 'rmse', labelCol = 'score', predictionCol = 'prediction')\n",
    "param = ParamGridBuilder().addGrid(als.rank, [1, 5]), addGrid(als.alpha, [1]).addGrid(als.regParam, [0.05]).addGrid(als.maxIter, [10]).build()\n",
    "cross = CrossValidator(estimator = als, evaluator = evaluator, estimatorParamMaps = param, numFolds"
   ]
  }
 ],
 "metadata": {
  "kernelspec": {
   "display_name": "Python 3 (ipykernel)",
   "language": "python",
   "name": "python3"
  },
  "language_info": {
   "codemirror_mode": {
    "name": "ipython",
    "version": 3
   },
   "file_extension": ".py",
   "mimetype": "text/x-python",
   "name": "python",
   "nbconvert_exporter": "python",
   "pygments_lexer": "ipython3",
   "version": "3.10.12"
  }
 },
 "nbformat": 4,
 "nbformat_minor": 5
}
