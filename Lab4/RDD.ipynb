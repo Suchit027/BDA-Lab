{
 "cells": [
  {
   "cell_type": "markdown",
   "id": "36711439-924c-404c-b7f7-26d55e2c3a9b",
   "metadata": {},
   "source": [
    "# Data Loading using SparkContext"
   ]
  },
  {
   "cell_type": "code",
   "execution_count": 1,
   "id": "2ffec9fc-500a-4073-bc7e-67831df6a378",
   "metadata": {},
   "outputs": [
    {
     "name": "stderr",
     "output_type": "stream",
     "text": [
      "24/10/27 15:28:11 WARN Utils: Your hostname, DESKTOP-2J74AJH resolves to a loopback address: 127.0.1.1; using 10.255.255.254 instead (on interface lo)\n",
      "24/10/27 15:28:11 WARN Utils: Set SPARK_LOCAL_IP if you need to bind to another address\n",
      "Setting default log level to \"WARN\".\n",
      "To adjust logging level use sc.setLogLevel(newLevel). For SparkR, use setLogLevel(newLevel).\n",
      "24/10/27 15:28:12 WARN NativeCodeLoader: Unable to load native-hadoop library for your platform... using builtin-java classes where applicable\n",
      "24/10/27 15:28:13 WARN Utils: Service 'SparkUI' could not bind on port 4040. Attempting port 4041.\n"
     ]
    }
   ],
   "source": [
    "import pyspark as ps\n",
    "sc = ps.SparkContext('local[*]')\n",
    "import json\n",
    "\n",
    "fields = ['product_id', 'user_id', 'review', 'profile_name', 'helpfulness', 'score', 'time']\n",
    "\n",
    "def validate(x):\n",
    "    for a in fields:\n",
    "        if a not in x:\n",
    "            return False\n",
    "    return True\n",
    "\n",
    "review = sc.textFile('movies.json').map(lambda x: json.loads(x)).filter(validate)"
   ]
  },
  {
   "cell_type": "markdown",
   "id": "97a624e3-d07f-4feb-8e8a-76580c9d4630",
   "metadata": {},
   "source": [
    "# Number of movies, users and enteries"
   ]
  },
  {
   "cell_type": "code",
   "execution_count": 2,
   "id": "153aaefd-4395-425c-99cb-430c3fb77149",
   "metadata": {},
   "outputs": [
    {
     "name": "stderr",
     "output_type": "stream",
     "text": [
      "                                                                                \r"
     ]
    },
    {
     "name": "stdout",
     "output_type": "stream",
     "text": [
      "Number of movies = 1539\n"
     ]
    },
    {
     "name": "stderr",
     "output_type": "stream",
     "text": [
      "                                                                                \r"
     ]
    },
    {
     "name": "stdout",
     "output_type": "stream",
     "text": [
      "Number of users = 36409\n"
     ]
    },
    {
     "name": "stderr",
     "output_type": "stream",
     "text": [
      "[Stage 4:>                                                          (0 + 2) / 2]\r"
     ]
    },
    {
     "name": "stdout",
     "output_type": "stream",
     "text": [
      "Number of enteries = 50000\n"
     ]
    },
    {
     "name": "stderr",
     "output_type": "stream",
     "text": [
      "                                                                                \r"
     ]
    }
   ],
   "source": [
    "print(f\"Number of movies = {review.map(lambda x: x['product_id']).distinct().count()}\")\n",
    "print(f\"Number of users = {review.map(lambda x: x['user_id']).distinct().count()}\")\n",
    "print(f\"Number of enteries = {review.count()}\")"
   ]
  },
  {
   "cell_type": "markdown",
   "id": "bb6cd71b-1a83-48c3-837e-520f2329d4dd",
   "metadata": {},
   "source": [
    "# Using ALS"
   ]
  },
  {
   "cell_type": "code",
   "execution_count": 3,
   "id": "9f67433c-1291-4cd7-a130-ae0df7889b47",
   "metadata": {},
   "outputs": [
    {
     "name": "stdout",
     "output_type": "stream",
     "text": [
      "39992\n",
      "10008\n"
     ]
    }
   ],
   "source": [
    "from pyspark.mllib.recommendation import ALS\n",
    "import hashlib\n",
    "\n",
    "def get_hash(x):\n",
    "    return int(hashlib.sha1(x).hexdigest(), 16) % (10 ** 8)\n",
    "\n",
    "rating = review.map(lambda x: (get_hash(x['user_id'].encode('utf-8')), get_hash(x['product_id'].encode('utf-8')), int(x['score'])))\n",
    "train = rating.filter(lambda x: ((x[0] + x[1]) % 10) >= 2)\n",
    "test = rating.filter(lambda x: ((x[0] + x[1]) % 10) < 2)\n",
    "# no. of training samples\n",
    "print(train.count())\n",
    "# no. of testing samples\n",
    "print(test.count())"
   ]
  },
  {
   "cell_type": "code",
   "execution_count": 4,
   "id": "b9d4ce71-3a69-41e7-a1ac-ab69dbda92c2",
   "metadata": {},
   "outputs": [
    {
     "name": "stderr",
     "output_type": "stream",
     "text": [
      "24/10/27 15:28:35 WARN InstanceBuilder: Failed to load implementation from:dev.ludovic.netlib.blas.JNIBLAS\n",
      "24/10/27 15:28:35 WARN InstanceBuilder: Failed to load implementation from:dev.ludovic.netlib.lapack.JNILAPACK\n",
      "[Stage 184:===================================================>   (17 + 1) / 18]\r"
     ]
    },
    {
     "name": "stdout",
     "output_type": "stream",
     "text": [
      "15.952486801889414\n"
     ]
    },
    {
     "name": "stderr",
     "output_type": "stream",
     "text": [
      "                                                                                \r"
     ]
    }
   ],
   "source": [
    "# building model\n",
    "rank = 10\n",
    "numiterations = 10\n",
    "model = ALS.train(train, rank, numiterations)\n",
    "format_test = test.map(lambda x: (int(x[0]), int(x[1])))\n",
    "predict = model.predictAll(format_test).map(lambda x: ((int(x[0]), int(x[1])), int(x[2])))\n",
    "true_and_predict = test.map(lambda x: ((int(x[0]), int(x[1])), int(x[2]))).join(predict)\n",
    "mse = true_and_predict.map(lambda x: (((int(x[1][0]) - int(x[1][1])) ** 2), 1)).reduce(lambda x, y: (x[0] + y[0], x[1] + y[1]))\n",
    "print(mse[0] / mse[1])"
   ]
  },
  {
   "cell_type": "code",
   "execution_count": null,
   "id": "8ed793b0-2931-43f5-a845-15c849c97de3",
   "metadata": {},
   "outputs": [],
   "source": []
  }
 ],
 "metadata": {
  "kernelspec": {
   "display_name": "Python 3 (ipykernel)",
   "language": "python",
   "name": "python3"
  },
  "language_info": {
   "codemirror_mode": {
    "name": "ipython",
    "version": 3
   },
   "file_extension": ".py",
   "mimetype": "text/x-python",
   "name": "python",
   "nbconvert_exporter": "python",
   "pygments_lexer": "ipython3",
   "version": "3.10.12"
  }
 },
 "nbformat": 4,
 "nbformat_minor": 5
}
