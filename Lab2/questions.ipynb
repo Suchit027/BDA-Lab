{
 "cells": [
  {
   "cell_type": "code",
   "execution_count": 2,
   "id": "5495c6a5-9bb4-44b7-8f92-bb4754e94fe3",
   "metadata": {},
   "outputs": [
    {
     "name": "stderr",
     "output_type": "stream",
     "text": [
      "24/08/14 18:09:24 WARN Utils: Your hostname, DESKTOP-2J74AJH resolves to a loopback address: 127.0.1.1; using 10.255.255.254 instead (on interface lo)\n",
      "24/08/14 18:09:24 WARN Utils: Set SPARK_LOCAL_IP if you need to bind to another address\n",
      "Setting default log level to \"WARN\".\n",
      "To adjust logging level use sc.setLogLevel(newLevel). For SparkR, use setLogLevel(newLevel).\n",
      "24/08/14 18:09:24 WARN NativeCodeLoader: Unable to load native-hadoop library for your platform... using builtin-java classes where applicable\n",
      "24/08/14 18:09:25 WARN Utils: Service 'SparkUI' could not bind on port 4040. Attempting port 4041.\n",
      "                                                                                \r"
     ]
    },
    {
     "name": "stdout",
     "output_type": "stream",
     "text": [
      "+---+---+\n",
      "|  a|  b|\n",
      "+---+---+\n",
      "|  3| 35|\n",
      "|  4| 40|\n",
      "+---+---+\n",
      "\n",
      "+---+---+---+\n",
      "|  a|  b|  c|\n",
      "+---+---+---+\n",
      "|  1| 30|  0|\n",
      "|  2| 25|  0|\n",
      "|  3| 35|  1|\n",
      "|  4| 40|  1|\n",
      "|  5| 29|  0|\n",
      "+---+---+---+\n",
      "\n"
     ]
    }
   ],
   "source": [
    "from pyspark.sql import SparkSession\n",
    "from pyspark.sql.functions import col, when\n",
    "spark = SparkSession.builder.appName('transformations').getOrCreate()\n",
    "data = [(1, 30), (2, 25), (3, 35), (4, 40), (5, 29)]\n",
    "df = spark.createDataFrame(data, schema= ['a', 'b'])\n",
    "filtered_df = df.filter(col('b') > 30)\n",
    "filtered_df.show()\n",
    "with_df = df.withColumn('c', when(col('b') > 30, '1').otherwise('0'))\n",
    "with_df.show()\n",
    "spark.stop()"
   ]
  },
  {
   "cell_type": "code",
   "execution_count": 4,
   "id": "edcee2ad-829a-4cda-b15b-c80ecff9af9b",
   "metadata": {},
   "outputs": [
    {
     "name": "stdout",
     "output_type": "stream",
     "text": [
      "3\n",
      "+---+---+\n",
      "|  a|  b|\n",
      "+---+---+\n",
      "|  1|  2|\n",
      "|  3|  4|\n",
      "|  5|  6|\n",
      "+---+---+\n",
      "\n"
     ]
    }
   ],
   "source": [
    "from pyspark.sql import SparkSession\n",
    "spark = SparkSession.builder.appName('display').getOrCreate()\n",
    "df = spark.read.csv('data.csv', header = True)\n",
    "print(df.count())\n",
    "df.show()\n",
    "spark.stop()"
   ]
  },
  {
   "cell_type": "code",
   "execution_count": 6,
   "id": "1bb844f2-d5cd-4ed8-b684-2c18a5efda78",
   "metadata": {},
   "outputs": [
    {
     "name": "stdout",
     "output_type": "stream",
     "text": [
      "+------+\n",
      "|sum(b)|\n",
      "+------+\n",
      "|  12.0|\n",
      "+------+\n",
      "\n",
      "+------+\n",
      "|min(b)|\n",
      "+------+\n",
      "|     2|\n",
      "+------+\n",
      "\n",
      "+------+\n",
      "|max(b)|\n",
      "+------+\n",
      "|     6|\n",
      "+------+\n",
      "\n",
      "+------+\n",
      "|avg(b)|\n",
      "+------+\n",
      "|   4.0|\n",
      "+------+\n",
      "\n"
     ]
    }
   ],
   "source": [
    "from pyspark.sql import SparkSession\n",
    "from pyspark.sql.functions import avg, sum, min, max\n",
    "spark = SparkSession.builder.appName('aggregate').getOrCreate()\n",
    "df = spark.read.csv('data.csv', header = True)\n",
    "summ = df.agg(sum('b'))\n",
    "summ.show()\n",
    "minn = df.agg(min('b'))\n",
    "minn.show()\n",
    "maxx = df.agg(max('b'))\n",
    "maxx.show()\n",
    "avg = df.agg(avg('b'))\n",
    "avg.show()\n",
    "spark.stop()"
   ]
  },
  {
   "cell_type": "code",
   "execution_count": 8,
   "id": "fc3b9d1c-1c05-49c9-92dc-8e9a78ca33cc",
   "metadata": {},
   "outputs": [
    {
     "name": "stderr",
     "output_type": "stream",
     "text": [
      "                                                                                \r"
     ]
    }
   ],
   "source": [
    "from pyspark.sql import SparkSession\n",
    "spark = SparkSession.builder.appName('write').getOrCreate()\n",
    "data = [(1, ), (2, ), (3, ), (4, )]\n",
    "df = spark.createDataFrame(data, schema= ['no'])\n",
    "df.write.format('csv').mode('overwrite').option('header', 'true').save('./data1.csv')\n",
    "spark.stop()"
   ]
  },
  {
   "cell_type": "code",
   "execution_count": 6,
   "id": "a9f6cbbe-2cc8-4a6a-8939-9a93132c08a4",
   "metadata": {},
   "outputs": [
    {
     "name": "stderr",
     "output_type": "stream",
     "text": [
      "24/08/18 13:52:13 WARN Utils: Service 'SparkUI' could not bind on port 4040. Attempting port 4041.\n"
     ]
    },
    {
     "name": "stdout",
     "output_type": "stream",
     "text": [
      "['this is a test. this is a.']\n"
     ]
    },
    {
     "name": "stderr",
     "output_type": "stream",
     "text": [
      "                                                                                \r"
     ]
    },
    {
     "name": "stdout",
     "output_type": "stream",
     "text": [
      "['this', 'is', 'a', 'test.', 'this', 'is', 'a.']\n",
      "Counter({'this': 2, 'is': 2, 'a': 1, 'test.': 1, 'a.': 1})\n"
     ]
    }
   ],
   "source": [
    "from pyspark import SparkContext\n",
    "from pyspark import SparkConf\n",
    "from collections import Counter\n",
    "sc = SparkContext.getOrCreate(SparkConf().setMaster('local[*]'))\n",
    "line = sc.textFile('text.txt')\n",
    "count = line.flatMap(lambda x: x.split()).collect()\n",
    "c = Counter(count)\n",
    "print(c)\n",
    "sc.stop()"
   ]
  },
  {
   "cell_type": "code",
   "execution_count": 24,
   "id": "76421f95-dd13-437c-a616-a88815b3eeb8",
   "metadata": {},
   "outputs": [
    {
     "name": "stdout",
     "output_type": "stream",
     "text": [
      "+--------------------+\n",
      "|               value|\n",
      "+--------------------+\n",
      "|this is a test. t...|\n",
      "+--------------------+\n",
      "\n",
      "+-----+-----+\n",
      "| word|count|\n",
      "+-----+-----+\n",
      "|test.|    1|\n",
      "|   is|    2|\n",
      "|    a|    1|\n",
      "| this|    2|\n",
      "|   a.|    1|\n",
      "+-----+-----+\n",
      "\n"
     ]
    }
   ],
   "source": [
    "from pyspark.sql import SparkSession\n",
    "from pyspark.sql import functions as f\n",
    "spark = SparkSession.builder.appName('wordCount').getOrCreate()\n",
    "df = spark.read.text('text.txt')\n",
    "df.show()\n",
    "# f.split just splits the row value into a list\n",
    "# f.explode seperates the list elements into multiple rows\n",
    "df = df.withColumn('word', f.explode(f.split(f.col('value'), ' '))).groupBy('word').count()\n",
    "df.show()\n",
    "spark.stop()"
   ]
  },
  {
   "cell_type": "code",
   "execution_count": 10,
   "id": "70c78d14-1035-4357-a3bb-813e449f7c1d",
   "metadata": {},
   "outputs": [
    {
     "name": "stdout",
     "output_type": "stream",
     "text": [
      "[['abc'], ['efg']]\n",
      "['abc', 'efg']\n"
     ]
    }
   ],
   "source": [
    "from pyspark import SparkContext, SparkConf\n",
    "\n",
    "spark = SparkContext.getOrCreate(SparkConf().setMaster('local[*]'))\n",
    "rdd = spark.parallelize([['abc'], ['efg']])\n",
    "print(rdd.collect())\n",
    "a = rdd.flatMap(lambda x: x).collect()\n",
    "print(a)"
   ]
  },
  {
   "cell_type": "code",
   "execution_count": null,
   "id": "586901e0-c565-48eb-b6cc-6ae7ab5347fd",
   "metadata": {},
   "outputs": [],
   "source": []
  }
 ],
 "metadata": {
  "kernelspec": {
   "display_name": "Python 3 (ipykernel)",
   "language": "python",
   "name": "python3"
  },
  "language_info": {
   "codemirror_mode": {
    "name": "ipython",
    "version": 3
   },
   "file_extension": ".py",
   "mimetype": "text/x-python",
   "name": "python",
   "nbconvert_exporter": "python",
   "pygments_lexer": "ipython3",
   "version": "3.10.12"
  }
 },
 "nbformat": 4,
 "nbformat_minor": 5
}
