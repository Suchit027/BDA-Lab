{
 "cells": [
  {
   "cell_type": "markdown",
   "id": "b9d6819a-e74c-456d-9c96-151e6cde2eab",
   "metadata": {},
   "source": [
    "# Filter, withColumn and when usage examples"
   ]
  },
  {
   "cell_type": "code",
   "execution_count": 7,
   "id": "5495c6a5-9bb4-44b7-8f92-bb4754e94fe3",
   "metadata": {},
   "outputs": [
    {
     "name": "stdout",
     "output_type": "stream",
     "text": [
      "+---+---+\n",
      "|  a|  b|\n",
      "+---+---+\n",
      "|  3| 35|\n",
      "|  4| 40|\n",
      "+---+---+\n",
      "\n",
      "+---+---+---+\n",
      "|  a|  b|  c|\n",
      "+---+---+---+\n",
      "|  1| 30|  0|\n",
      "|  2| 25|  0|\n",
      "|  3| 35|  1|\n",
      "|  4| 40|  1|\n",
      "|  5| 29|  0|\n",
      "+---+---+---+\n",
      "\n"
     ]
    }
   ],
   "source": [
    "from pyspark.sql import SparkSession\n",
    "from pyspark.sql.functions import col, when\n",
    "spark = SparkSession.builder.appName('transformations').getOrCreate()\n",
    "data = [(1, 30), (2, 25), (3, 35), (4, 40), (5, 29)]\n",
    "df = spark.createDataFrame(data, schema= ['a', 'b'])\n",
    "\n",
    "# note usage of col\n",
    "filtered_df = df.filter(col('b') > 30)\n",
    "\n",
    "filtered_df.show()\n",
    "\n",
    "with_df = df.withColumn('c', when(col('b') > 30, '1').otherwise('0'))\n",
    "\n",
    "with_df.show()\n",
    "spark.stop()"
   ]
  },
  {
   "cell_type": "markdown",
   "id": "bd6d902d-3856-40fb-bb56-61e67e259172",
   "metadata": {},
   "source": [
    "# Way to find number of rows in a dataframe"
   ]
  },
  {
   "cell_type": "code",
   "execution_count": 14,
   "id": "edcee2ad-829a-4cda-b15b-c80ecff9af9b",
   "metadata": {},
   "outputs": [
    {
     "name": "stdout",
     "output_type": "stream",
     "text": [
      "3\n",
      "+---+---+\n",
      "|  a|  b|\n",
      "+---+---+\n",
      "|  1|  2|\n",
      "|  3|  4|\n",
      "|  5|  6|\n",
      "+---+---+\n",
      "\n"
     ]
    }
   ],
   "source": [
    "from pyspark.sql import SparkSession\n",
    "spark = SparkSession.builder.appName('display').getOrCreate()\n",
    "df = spark.read.csv('data.csv', header = True)\n",
    "print(df.count())\n",
    "df.show()\n",
    "spark.stop()"
   ]
  },
  {
   "cell_type": "markdown",
   "id": "2e7e0e69-50a1-4193-acb1-dd03e28c903b",
   "metadata": {},
   "source": [
    "# Aggregation examples using sum, min, max and avg"
   ]
  },
  {
   "cell_type": "code",
   "execution_count": 9,
   "id": "1bb844f2-d5cd-4ed8-b684-2c18a5efda78",
   "metadata": {},
   "outputs": [
    {
     "name": "stderr",
     "output_type": "stream",
     "text": [
      "24/10/02 18:13:39 WARN Utils: Service 'SparkUI' could not bind on port 4040. Attempting port 4041.\n"
     ]
    },
    {
     "name": "stdout",
     "output_type": "stream",
     "text": [
      "+------+\n",
      "|sum(b)|\n",
      "+------+\n",
      "|  12.0|\n",
      "+------+\n",
      "\n",
      "+------+\n",
      "|min(b)|\n",
      "+------+\n",
      "|     2|\n",
      "+------+\n",
      "\n",
      "+------+\n",
      "|max(b)|\n",
      "+------+\n",
      "|     6|\n",
      "+------+\n",
      "\n",
      "+------+\n",
      "|avg(b)|\n",
      "+------+\n",
      "|   4.0|\n",
      "+------+\n",
      "\n"
     ]
    }
   ],
   "source": [
    "from pyspark.sql import SparkSession\n",
    "from pyspark.sql.functions import avg, sum, min, max\n",
    "spark = SparkSession.builder.appName('aggregate').getOrCreate()\n",
    "df = spark.read.csv('data.csv', header = True)\n",
    "summ = df.agg(sum('b'))\n",
    "summ.show()\n",
    "minn = df.agg(min('b'))\n",
    "minn.show()\n",
    "maxx = df.agg(max('b'))\n",
    "maxx.show()\n",
    "avg = df.agg(avg('b'))\n",
    "avg.show()\n",
    "spark.stop()"
   ]
  },
  {
   "cell_type": "markdown",
   "id": "0ab5f2cb-9572-4928-9754-f6508b27753e",
   "metadata": {},
   "source": [
    "# Way to save data into a csv file"
   ]
  },
  {
   "cell_type": "code",
   "execution_count": 10,
   "id": "fc3b9d1c-1c05-49c9-92dc-8e9a78ca33cc",
   "metadata": {},
   "outputs": [
    {
     "name": "stderr",
     "output_type": "stream",
     "text": [
      "24/10/02 18:13:40 WARN Utils: Service 'SparkUI' could not bind on port 4040. Attempting port 4041.\n",
      "                                                                                \r"
     ]
    }
   ],
   "source": [
    "from pyspark.sql import SparkSession\n",
    "spark = SparkSession.builder.appName('write').getOrCreate()\n",
    "data = [(1, ), (2, ), (3, ), (4, )]\n",
    "df = spark.createDataFrame(data, schema= ['no'])\n",
    "df.write.format('csv').mode('overwrite').option('header', 'true').save('./data1.csv')\n",
    "spark.stop()"
   ]
  },
  {
   "cell_type": "markdown",
   "id": "9196c9a3-da8f-4f6d-8019-6d362b508790",
   "metadata": {},
   "source": [
    "# Word count using RDD and collections module"
   ]
  },
  {
   "cell_type": "code",
   "execution_count": 16,
   "id": "a9f6cbbe-2cc8-4a6a-8939-9a93132c08a4",
   "metadata": {},
   "outputs": [
    {
     "name": "stderr",
     "output_type": "stream",
     "text": [
      "24/10/04 18:10:26 WARN Utils: Service 'SparkUI' could not bind on port 4040. Attempting port 4041.\n",
      "                                                                                \r"
     ]
    },
    {
     "name": "stdout",
     "output_type": "stream",
     "text": [
      "Counter({'this': 2, 'is': 2, 'a': 1, 'test.': 1, 'a.': 1})\n"
     ]
    }
   ],
   "source": [
    "from pyspark import SparkContext\n",
    "from pyspark import SparkConf\n",
    "from collections import Counter\n",
    "sc = SparkContext.getOrCreate(SparkConf().setMaster('local[*]'))\n",
    "line = sc.textFile('text.txt')\n",
    "count = line.flatMap(lambda x: x.split()).collect()\n",
    "c = Counter(count)\n",
    "print(c)\n",
    "sc.stop()"
   ]
  },
  {
   "cell_type": "markdown",
   "id": "f5e5dc55-df5d-4846-9381-11ab753873da",
   "metadata": {},
   "source": [
    "# Displaying how parallelize, flatmap and reduceByKey work"
   ]
  },
  {
   "cell_type": "code",
   "execution_count": 15,
   "id": "70c78d14-1035-4357-a3bb-813e449f7c1d",
   "metadata": {},
   "outputs": [
    {
     "name": "stderr",
     "output_type": "stream",
     "text": [
      "24/10/04 17:57:41 WARN Utils: Service 'SparkUI' could not bind on port 4040. Attempting port 4041.\n"
     ]
    },
    {
     "name": "stdout",
     "output_type": "stream",
     "text": [
      "[['abc'], ['efg'], ['abc'], ['efg']]\n"
     ]
    },
    {
     "name": "stderr",
     "output_type": "stream",
     "text": [
      "                                                                                \r"
     ]
    },
    {
     "name": "stdout",
     "output_type": "stream",
     "text": [
      "['abc', 'efg', 'abc', 'efg']\n",
      "['a', 'b', 'c', 'e', 'f', 'g', 'a', 'b', 'c', 'e', 'f', 'g']\n",
      "[('abc', (1, 1)), ('efg', (1, 1)), ('abc', (1, 1)), ('efg', (1, 1))]\n",
      "[('efg', (1, 1, 1, 1)), ('abc', (1, 1, 1, 1))]\n",
      "PythonRDD[1] at collect at /tmp/ipykernel_252917/3387076186.py:7\n"
     ]
    }
   ],
   "source": [
    "from pyspark import SparkContext, SparkConf\n",
    "\n",
    "spark = SparkContext.getOrCreate(SparkConf().setMaster('local[*]'))\n",
    "rdd = spark.parallelize([['abc'], ['efg'], ['abc'], ['efg']])\n",
    "print(rdd.collect())\n",
    "a = rdd.flatMap(lambda x: x)\n",
    "print(a.collect())\n",
    "test_flat = a.flatMap(lambda x: x)\n",
    "print(test_flat.collect())\n",
    "b = a.map(lambda x: (x, (1, 1)))\n",
    "print(b.collect())\n",
    "c = b.reduceByKey(lambda x, y: x + y)\n",
    "print(c.collect())\n",
    "print(a)\n",
    "spark.stop()"
   ]
  },
  {
   "cell_type": "code",
   "execution_count": null,
   "id": "586901e0-c565-48eb-b6cc-6ae7ab5347fd",
   "metadata": {},
   "outputs": [],
   "source": []
  }
 ],
 "metadata": {
  "kernelspec": {
   "display_name": "Python 3 (ipykernel)",
   "language": "python",
   "name": "python3"
  },
  "language_info": {
   "codemirror_mode": {
    "name": "ipython",
    "version": 3
   },
   "file_extension": ".py",
   "mimetype": "text/x-python",
   "name": "python",
   "nbconvert_exporter": "python",
   "pygments_lexer": "ipython3",
   "version": "3.10.12"
  }
 },
 "nbformat": 4,
 "nbformat_minor": 5
}
